{
 "cells": [
  {
   "cell_type": "markdown",
   "metadata": {},
   "source": [
    "# Feature Importance"
   ]
  },
  {
   "cell_type": "markdown",
   "metadata": {},
   "source": [
    "## (1) Importing libraries"
   ]
  },
  {
   "cell_type": "code",
   "execution_count": 2,
   "metadata": {
    "ExecuteTime": {
     "end_time": "2023-08-04T17:46:38.738302500Z",
     "start_time": "2023-08-04T17:46:38.499065600Z"
    }
   },
   "outputs": [],
   "source": [
    "# Data manipulation and visualization\n",
    "import pandas as pd\n",
    "import seaborn as sns\n",
    "import numpy as np\n",
    "import matplotlib.pyplot as plt\n",
    "\n",
    "# Scikit-learn libraries.\n",
    "from sklearn import metrics\n",
    "from sklearn.preprocessing import LabelEncoder, StandardScaler\n",
    "from sklearn.model_selection import StratifiedKFold\n",
    "from sklearn.ensemble import RandomForestClassifier\n",
    "\n",
    "# Gradient boosting framework(tree based learning algorithms).\n",
    "import lightgbm as lgb\n",
    "# For creating progress meters.\n",
    "from tqdm import tqdm_notebook as tqdm\n",
    "\n",
    "# Misc imports\n",
    "import warnings\n",
    "import os\n",
    "warnings.simplefilter(action='ignore', category=FutureWarning)\n"
   ]
  },
  {
   "cell_type": "markdown",
   "metadata": {},
   "source": [
    "## (2) Defining Functions"
   ]
  },
  {
   "cell_type": "code",
   "execution_count": 3,
   "metadata": {
    "ExecuteTime": {
     "end_time": "2023-08-04T17:46:38.747525200Z",
     "start_time": "2023-08-04T17:46:38.718561700Z"
    }
   },
   "outputs": [],
   "source": [
    "def get_filenames(path):\n",
    "    \"\"\"Function to print out \n",
    "    all available files at given path.\n",
    "\n",
    "    Args:\n",
    "        path (str): print out all files in path\n",
    "    \"\"\"\n",
    "    for dirname, _, filenames in os.walk(path):\n",
    "        for filename in filenames:\n",
    "            if 'csv' in filename:\n",
    "                print(os.path.join(dirname, filename))\n",
    "                \n",
    "                \n",
    "def get_train_test():\n",
    "    \"\"\" (1) imports training and testing datasets.\n",
    "        (2) Correcting reversed datasets.\n",
    "        (3) Dropping \"attack_Cat\", and \"id\" columns.\n",
    "\n",
    "    Returns:\n",
    "       train, test: dataframes\n",
    "    \"\"\"\n",
    "    root = \"../Dataset/\"\n",
    "    train = pd.read_csv(root+'UNSW_NB15_training-set.csv')\n",
    "    test = pd.read_csv(root+'UNSW_NB15_testing-set.csv')\n",
    "    \n",
    "    cols_to_drop = ['attack_cat', 'id']\n",
    "    \n",
    "    if train.shape < test.shape:\n",
    "        print(\"Training and testing sets are reveresed. Correcting..\")\n",
    "        train, test = test, train\n",
    "        print(f\"✅ Corrected training shape:\\t {train.shape}\\n✅ Corrected testing shape:\\t {test.shape}\\n\")\n",
    "\n",
    "    for df in [train, test]:\n",
    "        for col in cols_to_drop:\n",
    "            if col in df.columns:\n",
    "                print(f\"❌ Dropped:\\t {col}\")\n",
    "                df.drop([col], axis=1, inplace=True)\n",
    "    return train, test\n",
    "\n",
    "def get_categorical_columns(train):\n",
    "    \"\"\"inputs training set and returns a list of columns of dtype object.\n",
    "\n",
    "    Args:\n",
    "        train (dataframe): dataframe in\n",
    "\n",
    "    Returns:\n",
    "        list: returns a list with columns of dtype object.\n",
    "    \"\"\"\n",
    "    categorical_columns = []\n",
    "    for col in train.columns:\n",
    "        if train[col].dtype == 'object':\n",
    "            categorical_columns.append(col)\n",
    "    return categorical_columns\n",
    "\n",
    "\n",
    "def label_encode(train, test):\n",
    "    \"\"\" Label encodes categorical columns in dataframes\n",
    "\n",
    "    Args:\n",
    "        train (dataframe): dataframe in\n",
    "        test (dataframe): dataframe in\n",
    "\n",
    "    Returns:\n",
    "        train, test: label encoded dataframes\n",
    "    \"\"\"\n",
    "    for col in get_categorical_columns(train):\n",
    "        le = LabelEncoder()\n",
    "        le.fit(list(train[col].astype(str).values) + list(test[col].astype(str).values))\n",
    "        train[col] = le.transform(list(train[col].astype(str).values))\n",
    "        test[col] = le.transform(list(test[col].astype(str).values))\n",
    "    return train, test\n",
    "\n",
    "def feature_engineer(df):\n",
    "    \"\"\" feature engineering for input labels. Combining several and columns.\n",
    "\n",
    "    Args:\n",
    "        df (dataframe): Dataframe in\n",
    "\n",
    "    Returns:\n",
    "        dataframe: returns a feature engineered dataframe.\n",
    "    \"\"\"\n",
    "    # Everything except: 'FIN', 'INT', 'CON', 'REQ', 'RST is renamed 'others'\n",
    "    df.loc[~df['state'].isin(['FIN', 'INT', 'CON', 'REQ', 'RST']), 'state'] = 'others'\n",
    "    # Everything except: ''-', 'dns', 'http', 'smtp', 'ftp-data', 'ftp', 'ssh', 'pop3' is renamed 'others'\n",
    "    df.loc[~df['service'].isin(['-', 'dns', 'http', 'smtp', 'ftp-data', 'ftp', 'ssh', 'pop3']), 'service'] = 'others'\n",
    "    # Merging 'igmp', 'icmp', 'rtp' into one protocol: 'igmp_icmp_rtp'\n",
    "    df.loc[df['proto'].isin(['igmp', 'icmp', 'rtp']), 'proto'] = 'igmp_icmp_rtp'\n",
    "    # Everything except: 'tcp', 'udp' ,'arp', 'ospf', 'igmp_icmp_rtp' is renamed to 'others'\n",
    "    df.loc[~df['proto'].isin(['tcp', 'udp','arp', 'ospf', 'igmp_icmp_rtp']), 'proto'] = 'others'\n",
    "    return df\n",
    "\n",
    "\n",
    "def get_input_output(train, test, label_encoding=False, scaler=None):\n",
    "    \"\"\"_summary_\n",
    "\n",
    "    Args:\n",
    "        train (dataframe): _description_\n",
    "        test (dataframe): _description_\n",
    "        label_encoding (bool, optional): if we want to apply labelencoding, otherwise onehot encoding. Defaults to False.\n",
    "        scaler (bool, optional): Apply standardscaler for numerical values. Defaults to None.\n",
    "\n",
    "    Returns:\n",
    "        x_train, x_test, y_train, y_test: returns  scaled, splitted, and labelencoded(OHE) input and output variables\n",
    "    \"\"\"\n",
    "    x_train, y_train = train.drop(['label'], axis=1), train['label']\n",
    "    x_test, y_test = test.drop(['label'], axis=1), test['label']\n",
    "    \n",
    "    x_train, x_test = feature_engineer(x_train), feature_engineer(x_test)\n",
    "    \n",
    "    # Getting categorical columns for x_train from custom function\n",
    "    categorical_columns = get_categorical_columns(x_train)\n",
    "    # Using list apprehension for appending columns that are not in the categorical_columns list\n",
    "    non_categorical_columns = [col for col in x_train.columns if col not in categorical_columns]\n",
    "    \n",
    "    # applying StandardScaler for non categorical columns\n",
    "    if scaler is not None:\n",
    "        x_train[non_categorical_columns] = scaler.fit_transform(x_train[non_categorical_columns])\n",
    "        x_test[non_categorical_columns] = scaler.transform(x_test[non_categorical_columns])\n",
    "        \n",
    "    if label_encoding:\n",
    "        x_train, x_test = label_encode(x_train, x_test)\n",
    "        features = x_train.columns\n",
    "    else:\n",
    "        x_train = pd.get_dummies(x_train)\n",
    "        x_test = pd.get_dummies(x_test)\n",
    "        # print(\"Column mismatch {0}, {1}\".format(set(x_train.columns)- set(x_test.columns),  set(x_test.columns)- set(x_train.columns)))\n",
    "        features = list(set(x_train.columns) & set(x_test.columns))\n",
    "        \n",
    "    print(f\"Number of features {len(features)}\")\n",
    "    x_train = x_train[features]\n",
    "    x_test = x_test[features]\n",
    "\n",
    "    return x_train, y_train, x_test, y_test\n",
    "\n",
    "\n",
    "def display_feature_importance(importance, columns):\n",
    "    \"\"\"Create a new dataframe and show importance score for each column.\n",
    "\n",
    "    Args:\n",
    "        importance (float): value of importance\n",
    "        columns (dataframe cols): _description_\n",
    "\n",
    "    Returns:\n",
    "        dataframe: Dataframe with scores.\n",
    "    \"\"\"\n",
    "    feature_importance = pd.DataFrame(zip(columns, importance), columns=['Feature', 'Importance'])\n",
    "    feature_importance['Importance'] /= feature_importance['Importance'].sum()*0.01\n",
    "    return feature_importance.sort_values(by=\"Importance\", ascending=False)"
   ]
  },
  {
   "cell_type": "markdown",
   "metadata": {},
   "source": [
    "## (3) Data preperation"
   ]
  },
  {
   "cell_type": "code",
   "execution_count": 4,
   "metadata": {
    "ExecuteTime": {
     "end_time": "2023-08-04T17:46:40.147997Z",
     "start_time": "2023-08-04T17:46:38.724936200Z"
    }
   },
   "outputs": [
    {
     "name": "stdout",
     "output_type": "stream",
     "text": [
      "Training and testing sets are reveresed. Correcting..\n",
      "✅ Corrected training shape:\t (175341, 45)\n",
      "✅ Corrected testing shape:\t (82332, 45)\n",
      "\n",
      "❌ Dropped:\t attack_cat\n",
      "❌ Dropped:\t id\n",
      "❌ Dropped:\t attack_cat\n",
      "❌ Dropped:\t id\n"
     ]
    }
   ],
   "source": [
    "train, test = get_train_test()\n",
    "categorical_columns = get_categorical_columns(train)"
   ]
  },
  {
   "cell_type": "code",
   "execution_count": 5,
   "metadata": {
    "ExecuteTime": {
     "end_time": "2023-08-04T17:46:41.993959700Z",
     "start_time": "2023-08-04T17:46:40.146674Z"
    }
   },
   "outputs": [
    {
     "name": "stdout",
     "output_type": "stream",
     "text": [
      "Number of features 42\n"
     ]
    }
   ],
   "source": [
    "folds = 10\n",
    "seed = 1\n",
    "# num_round = 2000\n",
    "kf = StratifiedKFold(n_splits=folds, shuffle=True, random_state=seed, )\n",
    "X, Y, x_test, y_test = get_input_output(\n",
    "    train, \n",
    "    test, \n",
    "    label_encoding=True, \n",
    "    scaler= StandardScaler()\n",
    "    )\n",
    "importance_dict = {\n",
    "    \"feature\": X.columns\n",
    "}"
   ]
  },
  {
   "cell_type": "code",
   "execution_count": 6,
   "metadata": {
    "ExecuteTime": {
     "end_time": "2023-08-04T17:46:42.073164Z",
     "start_time": "2023-08-04T17:46:42.004823100Z"
    }
   },
   "outputs": [
    {
     "data": {
      "text/plain": "{'feature': Index(['dur', 'proto', 'service', 'state', 'spkts', 'dpkts', 'sbytes',\n        'dbytes', 'rate', 'sttl', 'dttl', 'sload', 'dload', 'sloss', 'dloss',\n        'sinpkt', 'dinpkt', 'sjit', 'djit', 'swin', 'stcpb', 'dtcpb', 'dwin',\n        'tcprtt', 'synack', 'ackdat', 'smean', 'dmean', 'trans_depth',\n        'response_body_len', 'ct_srv_src', 'ct_state_ttl', 'ct_dst_ltm',\n        'ct_src_dport_ltm', 'ct_dst_sport_ltm', 'ct_dst_src_ltm',\n        'is_ftp_login', 'ct_ftp_cmd', 'ct_flw_http_mthd', 'ct_src_ltm',\n        'ct_srv_dst', 'is_sm_ips_ports'],\n       dtype='object')}"
     },
     "execution_count": 6,
     "metadata": {},
     "output_type": "execute_result"
    }
   ],
   "source": [
    "importance_dict"
   ]
  },
  {
   "cell_type": "markdown",
   "metadata": {},
   "source": [
    "## (4) Training Data (using Random Forest Classifier)"
   ]
  },
  {
   "cell_type": "code",
   "execution_count": 7,
   "metadata": {
    "ExecuteTime": {
     "end_time": "2023-08-04T17:47:53.111051900Z",
     "start_time": "2023-08-04T17:46:42.026446600Z"
    }
   },
   "outputs": [],
   "source": [
    "clf = RandomForestClassifier(random_state=1)\n",
    "clf.fit(X, Y)\n",
    "feature_importance = clf.feature_importances_\n",
    "importance_dict['train'] =  feature_importance"
   ]
  },
  {
   "cell_type": "markdown",
   "metadata": {},
   "source": [
    "### Ten-fold Cross Validation"
   ]
  },
  {
   "cell_type": "code",
   "execution_count": 8,
   "metadata": {
    "ExecuteTime": {
     "end_time": "2023-08-04T18:00:27.102361200Z",
     "start_time": "2023-08-04T17:47:53.122105200Z"
    }
   },
   "outputs": [
    {
     "name": "stderr",
     "output_type": "stream",
     "text": [
      "C:\\Users\\Kim\\AppData\\Local\\Temp\\ipykernel_23920\\2841397460.py:3: TqdmDeprecationWarning: This function will be removed in tqdm==5.0.0\n",
      "Please use `tqdm.notebook.tqdm` instead of `tqdm.tqdm_notebook`\n",
      "  for tr_idx, val_idx in tqdm(kf.split(X, Y), total=folds):\n"
     ]
    },
    {
     "data": {
      "text/plain": "  0%|          | 0/10 [00:00<?, ?it/s]",
      "application/vnd.jupyter.widget-view+json": {
       "version_major": 2,
       "version_minor": 0,
       "model_id": "32e32b2cc5044ffba09cbb6b31ec3766"
      }
     },
     "metadata": {},
     "output_type": "display_data"
    },
    {
     "data": {
      "text/plain": "{'feature': Index(['dur', 'proto', 'service', 'state', 'spkts', 'dpkts', 'sbytes',\n        'dbytes', 'rate', 'sttl', 'dttl', 'sload', 'dload', 'sloss', 'dloss',\n        'sinpkt', 'dinpkt', 'sjit', 'djit', 'swin', 'stcpb', 'dtcpb', 'dwin',\n        'tcprtt', 'synack', 'ackdat', 'smean', 'dmean', 'trans_depth',\n        'response_body_len', 'ct_srv_src', 'ct_state_ttl', 'ct_dst_ltm',\n        'ct_src_dport_ltm', 'ct_dst_sport_ltm', 'ct_dst_src_ltm',\n        'is_ftp_login', 'ct_ftp_cmd', 'ct_flw_http_mthd', 'ct_src_ltm',\n        'ct_srv_dst', 'is_sm_ips_ports'],\n       dtype='object'),\n 'train': array([2.86258647e-02, 1.38794819e-02, 4.56995035e-03, 1.85914358e-02,\n        9.04958442e-03, 2.32241003e-02, 3.06772470e-02, 3.18363016e-02,\n        4.25358099e-02, 1.62550945e-01, 7.31162119e-02, 3.31017499e-02,\n        4.56746370e-02, 7.71580994e-03, 5.81202549e-03, 2.87987003e-02,\n        2.28465204e-02, 2.02777156e-02, 1.47097081e-02, 5.69893653e-03,\n        7.60287536e-03, 7.77447642e-03, 7.57838689e-04, 3.20278744e-02,\n        2.65431436e-02, 1.80576217e-02, 2.70684655e-02, 4.99193522e-02,\n        9.27764328e-04, 1.54297367e-03, 2.27930120e-02, 8.96190853e-02,\n        7.75712439e-03, 7.64210106e-03, 4.87599983e-03, 2.14527725e-02,\n        1.03944895e-04, 7.45545620e-05, 1.70370502e-03, 9.41965667e-03,\n        3.43544586e-02, 4.68846339e-03]),\n 'train_10_fold': array([2.44599638e-02, 1.07217307e-02, 4.87883364e-03, 1.34613486e-02,\n        7.41420661e-03, 2.05018403e-02, 2.95717490e-02, 2.50884512e-02,\n        4.97852858e-02, 1.68989191e-01, 4.98946767e-02, 3.71174085e-02,\n        6.57954009e-02, 7.92924813e-03, 6.54597126e-03, 2.27116670e-02,\n        2.23922605e-02, 1.50842075e-02, 1.13751409e-02, 4.93054486e-03,\n        8.01884932e-03, 7.67481288e-03, 4.87108198e-04, 3.20263468e-02,\n        2.45663801e-02, 2.83477792e-02, 2.61591521e-02, 4.25713673e-02,\n        1.26788122e-03, 1.47285858e-03, 2.11606980e-02, 1.16896659e-01,\n        8.60288065e-03, 6.07456333e-03, 8.79113877e-03, 2.29323837e-02,\n        9.78005288e-05, 9.99527375e-05, 1.49351676e-03, 8.18407066e-03,\n        2.77238443e-02, 6.70082954e-03])}"
     },
     "execution_count": 8,
     "metadata": {},
     "output_type": "execute_result"
    }
   ],
   "source": [
    "feature_importances = []\n",
    "\n",
    "for tr_idx, val_idx in tqdm(kf.split(X, Y), total=folds):\n",
    "    x_train, y_train = X.iloc[tr_idx], Y[tr_idx]\n",
    "    # x_val, y_val = X.iloc[val_idx], Y[val_idx]\n",
    "    clf = RandomForestClassifier()\n",
    "    clf.fit(x_train, y_train)\n",
    "    \n",
    "    feature_importances.append(clf.feature_importances_)\n",
    "\n",
    "feature_importance = np.mean(feature_importances, axis=0)\n",
    "importance_dict['train_10_fold'] =  feature_importance\n",
    "importance_dict\n",
    "# display_feature_importance(feature_importance, X.columns)"
   ]
  },
  {
   "cell_type": "markdown",
   "metadata": {},
   "source": [
    "## (5) Testing and Training Data (using Random Forest Classifier)"
   ]
  },
  {
   "cell_type": "code",
   "execution_count": 9,
   "metadata": {
    "ExecuteTime": {
     "end_time": "2023-08-04T18:00:27.191859900Z",
     "start_time": "2023-08-04T18:00:27.112241200Z"
    }
   },
   "outputs": [],
   "source": [
    "x_total, y_total = pd.concat([X, x_test]), pd.concat([Y, y_test])"
   ]
  },
  {
   "cell_type": "code",
   "execution_count": 10,
   "metadata": {
    "ExecuteTime": {
     "end_time": "2023-08-04T18:02:23.261356300Z",
     "start_time": "2023-08-04T18:00:27.191859900Z"
    }
   },
   "outputs": [
    {
     "data": {
      "text/plain": "{'feature': Index(['dur', 'proto', 'service', 'state', 'spkts', 'dpkts', 'sbytes',\n        'dbytes', 'rate', 'sttl', 'dttl', 'sload', 'dload', 'sloss', 'dloss',\n        'sinpkt', 'dinpkt', 'sjit', 'djit', 'swin', 'stcpb', 'dtcpb', 'dwin',\n        'tcprtt', 'synack', 'ackdat', 'smean', 'dmean', 'trans_depth',\n        'response_body_len', 'ct_srv_src', 'ct_state_ttl', 'ct_dst_ltm',\n        'ct_src_dport_ltm', 'ct_dst_sport_ltm', 'ct_dst_src_ltm',\n        'is_ftp_login', 'ct_ftp_cmd', 'ct_flw_http_mthd', 'ct_src_ltm',\n        'ct_srv_dst', 'is_sm_ips_ports'],\n       dtype='object'),\n 'train': array([2.86258647e-02, 1.38794819e-02, 4.56995035e-03, 1.85914358e-02,\n        9.04958442e-03, 2.32241003e-02, 3.06772470e-02, 3.18363016e-02,\n        4.25358099e-02, 1.62550945e-01, 7.31162119e-02, 3.31017499e-02,\n        4.56746370e-02, 7.71580994e-03, 5.81202549e-03, 2.87987003e-02,\n        2.28465204e-02, 2.02777156e-02, 1.47097081e-02, 5.69893653e-03,\n        7.60287536e-03, 7.77447642e-03, 7.57838689e-04, 3.20278744e-02,\n        2.65431436e-02, 1.80576217e-02, 2.70684655e-02, 4.99193522e-02,\n        9.27764328e-04, 1.54297367e-03, 2.27930120e-02, 8.96190853e-02,\n        7.75712439e-03, 7.64210106e-03, 4.87599983e-03, 2.14527725e-02,\n        1.03944895e-04, 7.45545620e-05, 1.70370502e-03, 9.41965667e-03,\n        3.43544586e-02, 4.68846339e-03]),\n 'train_10_fold': array([2.44599638e-02, 1.07217307e-02, 4.87883364e-03, 1.34613486e-02,\n        7.41420661e-03, 2.05018403e-02, 2.95717490e-02, 2.50884512e-02,\n        4.97852858e-02, 1.68989191e-01, 4.98946767e-02, 3.71174085e-02,\n        6.57954009e-02, 7.92924813e-03, 6.54597126e-03, 2.27116670e-02,\n        2.23922605e-02, 1.50842075e-02, 1.13751409e-02, 4.93054486e-03,\n        8.01884932e-03, 7.67481288e-03, 4.87108198e-04, 3.20263468e-02,\n        2.45663801e-02, 2.83477792e-02, 2.61591521e-02, 4.25713673e-02,\n        1.26788122e-03, 1.47285858e-03, 2.11606980e-02, 1.16896659e-01,\n        8.60288065e-03, 6.07456333e-03, 8.79113877e-03, 2.29323837e-02,\n        9.78005288e-05, 9.99527375e-05, 1.49351676e-03, 8.18407066e-03,\n        2.77238443e-02, 6.70082954e-03]),\n 'combined': array([2.14616607e-02, 1.34961579e-02, 6.79518565e-03, 2.42065216e-02,\n        9.74028433e-03, 1.35901248e-02, 4.16620782e-02, 4.10501202e-02,\n        4.45606903e-02, 1.62831855e-01, 4.81216523e-02, 5.33492645e-02,\n        3.93800274e-02, 8.60157876e-03, 9.50594651e-03, 1.52044167e-02,\n        3.16974174e-02, 1.55661838e-02, 1.09495755e-02, 8.24554065e-03,\n        8.20918316e-03, 8.12363549e-03, 2.59061134e-04, 2.66268942e-02,\n        2.55069619e-02, 1.65030383e-02, 4.13000975e-02, 2.79748311e-02,\n        1.40549748e-03, 3.32689299e-03, 2.73150637e-02, 7.48617775e-02,\n        7.24565460e-03, 6.51194024e-03, 1.82958474e-02, 3.75903867e-02,\n        1.02556683e-04, 9.95148929e-05, 1.81311353e-03, 8.24339823e-03,\n        3.49235664e-02, 3.74480508e-03])}"
     },
     "execution_count": 10,
     "metadata": {},
     "output_type": "execute_result"
    }
   ],
   "source": [
    "clf = RandomForestClassifier()\n",
    "clf.fit(x_total, y_total)\n",
    "feature_importance = clf.feature_importances_\n",
    "importance_dict['combined'] =  feature_importance\n",
    "importance_dict\n",
    "# display_feature_importance(feature_importance, X.columns)"
   ]
  },
  {
   "cell_type": "markdown",
   "metadata": {},
   "source": [
    "### Ten-fold Cross Validation"
   ]
  },
  {
   "cell_type": "code",
   "execution_count": 11,
   "metadata": {
    "ExecuteTime": {
     "end_time": "2023-08-04T18:34:43.791313900Z",
     "start_time": "2023-08-04T18:02:23.280634600Z"
    }
   },
   "outputs": [
    {
     "name": "stderr",
     "output_type": "stream",
     "text": [
      "C:\\Users\\Kim\\AppData\\Local\\Temp\\ipykernel_23920\\1513284238.py:3: TqdmDeprecationWarning: This function will be removed in tqdm==5.0.0\n",
      "Please use `tqdm.notebook.tqdm` instead of `tqdm.tqdm_notebook`\n",
      "  for tr_idx, val_idx in tqdm(kf.split(x_total, y_total), total=folds):\n"
     ]
    },
    {
     "data": {
      "text/plain": "  0%|          | 0/10 [00:00<?, ?it/s]",
      "application/vnd.jupyter.widget-view+json": {
       "version_major": 2,
       "version_minor": 0,
       "model_id": "6be1b8a0b2cd4aec837016f4e8c34b34"
      }
     },
     "metadata": {},
     "output_type": "display_data"
    },
    {
     "data": {
      "text/plain": "{'feature': Index(['dur', 'proto', 'service', 'state', 'spkts', 'dpkts', 'sbytes',\n        'dbytes', 'rate', 'sttl', 'dttl', 'sload', 'dload', 'sloss', 'dloss',\n        'sinpkt', 'dinpkt', 'sjit', 'djit', 'swin', 'stcpb', 'dtcpb', 'dwin',\n        'tcprtt', 'synack', 'ackdat', 'smean', 'dmean', 'trans_depth',\n        'response_body_len', 'ct_srv_src', 'ct_state_ttl', 'ct_dst_ltm',\n        'ct_src_dport_ltm', 'ct_dst_sport_ltm', 'ct_dst_src_ltm',\n        'is_ftp_login', 'ct_ftp_cmd', 'ct_flw_http_mthd', 'ct_src_ltm',\n        'ct_srv_dst', 'is_sm_ips_ports'],\n       dtype='object'),\n 'train': array([2.86258647e-02, 1.38794819e-02, 4.56995035e-03, 1.85914358e-02,\n        9.04958442e-03, 2.32241003e-02, 3.06772470e-02, 3.18363016e-02,\n        4.25358099e-02, 1.62550945e-01, 7.31162119e-02, 3.31017499e-02,\n        4.56746370e-02, 7.71580994e-03, 5.81202549e-03, 2.87987003e-02,\n        2.28465204e-02, 2.02777156e-02, 1.47097081e-02, 5.69893653e-03,\n        7.60287536e-03, 7.77447642e-03, 7.57838689e-04, 3.20278744e-02,\n        2.65431436e-02, 1.80576217e-02, 2.70684655e-02, 4.99193522e-02,\n        9.27764328e-04, 1.54297367e-03, 2.27930120e-02, 8.96190853e-02,\n        7.75712439e-03, 7.64210106e-03, 4.87599983e-03, 2.14527725e-02,\n        1.03944895e-04, 7.45545620e-05, 1.70370502e-03, 9.41965667e-03,\n        3.43544586e-02, 4.68846339e-03]),\n 'train_10_fold': array([2.44599638e-02, 1.07217307e-02, 4.87883364e-03, 1.34613486e-02,\n        7.41420661e-03, 2.05018403e-02, 2.95717490e-02, 2.50884512e-02,\n        4.97852858e-02, 1.68989191e-01, 4.98946767e-02, 3.71174085e-02,\n        6.57954009e-02, 7.92924813e-03, 6.54597126e-03, 2.27116670e-02,\n        2.23922605e-02, 1.50842075e-02, 1.13751409e-02, 4.93054486e-03,\n        8.01884932e-03, 7.67481288e-03, 4.87108198e-04, 3.20263468e-02,\n        2.45663801e-02, 2.83477792e-02, 2.61591521e-02, 4.25713673e-02,\n        1.26788122e-03, 1.47285858e-03, 2.11606980e-02, 1.16896659e-01,\n        8.60288065e-03, 6.07456333e-03, 8.79113877e-03, 2.29323837e-02,\n        9.78005288e-05, 9.99527375e-05, 1.49351676e-03, 8.18407066e-03,\n        2.77238443e-02, 6.70082954e-03]),\n 'combined': array([2.14616607e-02, 1.34961579e-02, 6.79518565e-03, 2.42065216e-02,\n        9.74028433e-03, 1.35901248e-02, 4.16620782e-02, 4.10501202e-02,\n        4.45606903e-02, 1.62831855e-01, 4.81216523e-02, 5.33492645e-02,\n        3.93800274e-02, 8.60157876e-03, 9.50594651e-03, 1.52044167e-02,\n        3.16974174e-02, 1.55661838e-02, 1.09495755e-02, 8.24554065e-03,\n        8.20918316e-03, 8.12363549e-03, 2.59061134e-04, 2.66268942e-02,\n        2.55069619e-02, 1.65030383e-02, 4.13000975e-02, 2.79748311e-02,\n        1.40549748e-03, 3.32689299e-03, 2.73150637e-02, 7.48617775e-02,\n        7.24565460e-03, 6.51194024e-03, 1.82958474e-02, 3.75903867e-02,\n        1.02556683e-04, 9.95148929e-05, 1.81311353e-03, 8.24339823e-03,\n        3.49235664e-02, 3.74480508e-03]),\n 'combined_10_fold': array([2.39798886e-02, 1.07434090e-02, 8.29460903e-03, 1.47264411e-02,\n        9.13620359e-03, 2.27883376e-02, 4.27936852e-02, 3.67048662e-02,\n        4.47381357e-02, 1.14335263e-01, 4.31643709e-02, 4.99517047e-02,\n        5.51744415e-02, 1.15874776e-02, 6.44123805e-03, 2.34428642e-02,\n        2.41859805e-02, 1.56823262e-02, 1.27984479e-02, 7.43721163e-03,\n        8.48023288e-03, 8.38951728e-03, 6.37916168e-04, 2.82335412e-02,\n        2.43711096e-02, 2.53749101e-02, 4.14152640e-02, 2.47007360e-02,\n        1.58787980e-03, 3.37989235e-03, 2.52543553e-02, 1.12695899e-01,\n        8.05559995e-03, 6.43183474e-03, 1.39120037e-02, 3.97225940e-02,\n        1.10210427e-04, 1.06207245e-04, 1.96570301e-03, 8.33863800e-03,\n        3.47606753e-02, 3.96837794e-03])}"
     },
     "execution_count": 11,
     "metadata": {},
     "output_type": "execute_result"
    }
   ],
   "source": [
    "feature_importances = []\n",
    "\n",
    "for tr_idx, val_idx in tqdm(kf.split(x_total, y_total), total=folds):\n",
    "    x_train, y_train = x_total.iloc[tr_idx], y_total.iloc[tr_idx]\n",
    "    clf = RandomForestClassifier()\n",
    "    clf.fit(x_train, y_train)\n",
    "    \n",
    "    feature_importances.append(clf.feature_importances_)\n",
    "\n",
    "feature_importance = np.mean(feature_importances, axis=0)\n",
    "importance_dict['combined_10_fold'] =  feature_importance\n",
    "importance_dict\n",
    "# display_feature_importance(feature_importance, X.columns)"
   ]
  },
  {
   "cell_type": "code",
   "execution_count": 12,
   "metadata": {
    "ExecuteTime": {
     "end_time": "2023-08-04T18:34:43.847532400Z",
     "start_time": "2023-08-04T18:34:43.802553500Z"
    }
   },
   "outputs": [
    {
     "data": {
      "text/plain": "              feature      train  train_10_fold   combined  combined_10_fold  \\\n9                sttl  16.255094      16.898919  16.283185         11.433526   \n31       ct_state_ttl   8.961909      11.689666   7.486178         11.269590   \n12              dload   4.567464       6.579540   3.938003          5.517444   \n10               dttl   7.311621       4.989468   4.812165          4.316437   \n8                rate   4.253581       4.978529   4.456069          4.473814   \n27              dmean   4.991935       4.257137   2.797483          2.470074   \n11              sload   3.310175       3.711741   5.334926          4.995170   \n23             tcprtt   3.202787       3.202635   2.662689          2.823354   \n6              sbytes   3.067725       2.957175   4.166208          4.279369   \n25             ackdat   1.805762       2.834778   1.650304          2.537491   \n40         ct_srv_dst   3.435446       2.772384   3.492357          3.476068   \n26              smean   2.706847       2.615915   4.130010          4.141526   \n7              dbytes   3.183630       2.508845   4.105012          3.670487   \n24             synack   2.654314       2.456638   2.550696          2.437111   \n0                 dur   2.862586       2.445996   2.146166          2.397989   \n35     ct_dst_src_ltm   2.145277       2.293238   3.759039          3.972259   \n15             sinpkt   2.879870       2.271167   1.520442          2.344286   \n16             dinpkt   2.284652       2.239226   3.169742          2.418598   \n30         ct_srv_src   2.279301       2.116070   2.731506          2.525436   \n5               dpkts   2.322410       2.050184   1.359012          2.278834   \n17               sjit   2.027772       1.508421   1.556618          1.568233   \n3               state   1.859144       1.346135   2.420652          1.472644   \n18               djit   1.470971       1.137514   1.094958          1.279845   \n1               proto   1.387948       1.072173   1.349616          1.074341   \n34   ct_dst_sport_ltm   0.487600       0.879114   1.829585          1.391200   \n32         ct_dst_ltm   0.775712       0.860288   0.724565          0.805560   \n39         ct_src_ltm   0.941966       0.818407   0.824340          0.833864   \n20              stcpb   0.760288       0.801885   0.820918          0.848023   \n13              sloss   0.771581       0.792925   0.860158          1.158748   \n21              dtcpb   0.777448       0.767481   0.812364          0.838952   \n4               spkts   0.904958       0.741421   0.974028          0.913620   \n41    is_sm_ips_ports   0.468846       0.670083   0.374481          0.396838   \n14              dloss   0.581203       0.654597   0.950595          0.644124   \n33   ct_src_dport_ltm   0.764210       0.607456   0.651194          0.643183   \n19               swin   0.569894       0.493054   0.824554          0.743721   \n2             service   0.456995       0.487883   0.679519          0.829461   \n38   ct_flw_http_mthd   0.170371       0.149352   0.181311          0.196570   \n29  response_body_len   0.154297       0.147286   0.332689          0.337989   \n28        trans_depth   0.092776       0.126788   0.140550          0.158788   \n22               dwin   0.075784       0.048711   0.025906          0.063792   \n37         ct_ftp_cmd   0.007455       0.009995   0.009951          0.010621   \n36       is_ftp_login   0.010394       0.009780   0.010256          0.011021   \n\n         mean  \n9   15.217681  \n31   9.851836  \n12   5.150613  \n10   5.357423  \n8    4.540498  \n27   3.629157  \n11   4.338003  \n23   2.972866  \n6    3.617619  \n25   2.207084  \n40   3.294064  \n26   3.398574  \n7    3.366993  \n24   2.524690  \n0    2.463184  \n35   3.042453  \n15   2.253941  \n16   2.528054  \n30   2.413078  \n5    2.002610  \n17   1.665261  \n3    1.774644  \n18   1.245822  \n1    1.221019  \n34   1.146875  \n32   0.791531  \n39   0.854644  \n20   0.807779  \n13   0.895853  \n21   0.799061  \n4    0.883507  \n41   0.477562  \n14   0.707630  \n33   0.666511  \n19   0.657806  \n2    0.613464  \n38   0.174401  \n29   0.243065  \n28   0.129726  \n22   0.053548  \n37   0.009506  \n36   0.010363  ",
      "text/html": "<div>\n<style scoped>\n    .dataframe tbody tr th:only-of-type {\n        vertical-align: middle;\n    }\n\n    .dataframe tbody tr th {\n        vertical-align: top;\n    }\n\n    .dataframe thead th {\n        text-align: right;\n    }\n</style>\n<table border=\"1\" class=\"dataframe\">\n  <thead>\n    <tr style=\"text-align: right;\">\n      <th></th>\n      <th>feature</th>\n      <th>train</th>\n      <th>train_10_fold</th>\n      <th>combined</th>\n      <th>combined_10_fold</th>\n      <th>mean</th>\n    </tr>\n  </thead>\n  <tbody>\n    <tr>\n      <th>9</th>\n      <td>sttl</td>\n      <td>16.255094</td>\n      <td>16.898919</td>\n      <td>16.283185</td>\n      <td>11.433526</td>\n      <td>15.217681</td>\n    </tr>\n    <tr>\n      <th>31</th>\n      <td>ct_state_ttl</td>\n      <td>8.961909</td>\n      <td>11.689666</td>\n      <td>7.486178</td>\n      <td>11.269590</td>\n      <td>9.851836</td>\n    </tr>\n    <tr>\n      <th>12</th>\n      <td>dload</td>\n      <td>4.567464</td>\n      <td>6.579540</td>\n      <td>3.938003</td>\n      <td>5.517444</td>\n      <td>5.150613</td>\n    </tr>\n    <tr>\n      <th>10</th>\n      <td>dttl</td>\n      <td>7.311621</td>\n      <td>4.989468</td>\n      <td>4.812165</td>\n      <td>4.316437</td>\n      <td>5.357423</td>\n    </tr>\n    <tr>\n      <th>8</th>\n      <td>rate</td>\n      <td>4.253581</td>\n      <td>4.978529</td>\n      <td>4.456069</td>\n      <td>4.473814</td>\n      <td>4.540498</td>\n    </tr>\n    <tr>\n      <th>27</th>\n      <td>dmean</td>\n      <td>4.991935</td>\n      <td>4.257137</td>\n      <td>2.797483</td>\n      <td>2.470074</td>\n      <td>3.629157</td>\n    </tr>\n    <tr>\n      <th>11</th>\n      <td>sload</td>\n      <td>3.310175</td>\n      <td>3.711741</td>\n      <td>5.334926</td>\n      <td>4.995170</td>\n      <td>4.338003</td>\n    </tr>\n    <tr>\n      <th>23</th>\n      <td>tcprtt</td>\n      <td>3.202787</td>\n      <td>3.202635</td>\n      <td>2.662689</td>\n      <td>2.823354</td>\n      <td>2.972866</td>\n    </tr>\n    <tr>\n      <th>6</th>\n      <td>sbytes</td>\n      <td>3.067725</td>\n      <td>2.957175</td>\n      <td>4.166208</td>\n      <td>4.279369</td>\n      <td>3.617619</td>\n    </tr>\n    <tr>\n      <th>25</th>\n      <td>ackdat</td>\n      <td>1.805762</td>\n      <td>2.834778</td>\n      <td>1.650304</td>\n      <td>2.537491</td>\n      <td>2.207084</td>\n    </tr>\n    <tr>\n      <th>40</th>\n      <td>ct_srv_dst</td>\n      <td>3.435446</td>\n      <td>2.772384</td>\n      <td>3.492357</td>\n      <td>3.476068</td>\n      <td>3.294064</td>\n    </tr>\n    <tr>\n      <th>26</th>\n      <td>smean</td>\n      <td>2.706847</td>\n      <td>2.615915</td>\n      <td>4.130010</td>\n      <td>4.141526</td>\n      <td>3.398574</td>\n    </tr>\n    <tr>\n      <th>7</th>\n      <td>dbytes</td>\n      <td>3.183630</td>\n      <td>2.508845</td>\n      <td>4.105012</td>\n      <td>3.670487</td>\n      <td>3.366993</td>\n    </tr>\n    <tr>\n      <th>24</th>\n      <td>synack</td>\n      <td>2.654314</td>\n      <td>2.456638</td>\n      <td>2.550696</td>\n      <td>2.437111</td>\n      <td>2.524690</td>\n    </tr>\n    <tr>\n      <th>0</th>\n      <td>dur</td>\n      <td>2.862586</td>\n      <td>2.445996</td>\n      <td>2.146166</td>\n      <td>2.397989</td>\n      <td>2.463184</td>\n    </tr>\n    <tr>\n      <th>35</th>\n      <td>ct_dst_src_ltm</td>\n      <td>2.145277</td>\n      <td>2.293238</td>\n      <td>3.759039</td>\n      <td>3.972259</td>\n      <td>3.042453</td>\n    </tr>\n    <tr>\n      <th>15</th>\n      <td>sinpkt</td>\n      <td>2.879870</td>\n      <td>2.271167</td>\n      <td>1.520442</td>\n      <td>2.344286</td>\n      <td>2.253941</td>\n    </tr>\n    <tr>\n      <th>16</th>\n      <td>dinpkt</td>\n      <td>2.284652</td>\n      <td>2.239226</td>\n      <td>3.169742</td>\n      <td>2.418598</td>\n      <td>2.528054</td>\n    </tr>\n    <tr>\n      <th>30</th>\n      <td>ct_srv_src</td>\n      <td>2.279301</td>\n      <td>2.116070</td>\n      <td>2.731506</td>\n      <td>2.525436</td>\n      <td>2.413078</td>\n    </tr>\n    <tr>\n      <th>5</th>\n      <td>dpkts</td>\n      <td>2.322410</td>\n      <td>2.050184</td>\n      <td>1.359012</td>\n      <td>2.278834</td>\n      <td>2.002610</td>\n    </tr>\n    <tr>\n      <th>17</th>\n      <td>sjit</td>\n      <td>2.027772</td>\n      <td>1.508421</td>\n      <td>1.556618</td>\n      <td>1.568233</td>\n      <td>1.665261</td>\n    </tr>\n    <tr>\n      <th>3</th>\n      <td>state</td>\n      <td>1.859144</td>\n      <td>1.346135</td>\n      <td>2.420652</td>\n      <td>1.472644</td>\n      <td>1.774644</td>\n    </tr>\n    <tr>\n      <th>18</th>\n      <td>djit</td>\n      <td>1.470971</td>\n      <td>1.137514</td>\n      <td>1.094958</td>\n      <td>1.279845</td>\n      <td>1.245822</td>\n    </tr>\n    <tr>\n      <th>1</th>\n      <td>proto</td>\n      <td>1.387948</td>\n      <td>1.072173</td>\n      <td>1.349616</td>\n      <td>1.074341</td>\n      <td>1.221019</td>\n    </tr>\n    <tr>\n      <th>34</th>\n      <td>ct_dst_sport_ltm</td>\n      <td>0.487600</td>\n      <td>0.879114</td>\n      <td>1.829585</td>\n      <td>1.391200</td>\n      <td>1.146875</td>\n    </tr>\n    <tr>\n      <th>32</th>\n      <td>ct_dst_ltm</td>\n      <td>0.775712</td>\n      <td>0.860288</td>\n      <td>0.724565</td>\n      <td>0.805560</td>\n      <td>0.791531</td>\n    </tr>\n    <tr>\n      <th>39</th>\n      <td>ct_src_ltm</td>\n      <td>0.941966</td>\n      <td>0.818407</td>\n      <td>0.824340</td>\n      <td>0.833864</td>\n      <td>0.854644</td>\n    </tr>\n    <tr>\n      <th>20</th>\n      <td>stcpb</td>\n      <td>0.760288</td>\n      <td>0.801885</td>\n      <td>0.820918</td>\n      <td>0.848023</td>\n      <td>0.807779</td>\n    </tr>\n    <tr>\n      <th>13</th>\n      <td>sloss</td>\n      <td>0.771581</td>\n      <td>0.792925</td>\n      <td>0.860158</td>\n      <td>1.158748</td>\n      <td>0.895853</td>\n    </tr>\n    <tr>\n      <th>21</th>\n      <td>dtcpb</td>\n      <td>0.777448</td>\n      <td>0.767481</td>\n      <td>0.812364</td>\n      <td>0.838952</td>\n      <td>0.799061</td>\n    </tr>\n    <tr>\n      <th>4</th>\n      <td>spkts</td>\n      <td>0.904958</td>\n      <td>0.741421</td>\n      <td>0.974028</td>\n      <td>0.913620</td>\n      <td>0.883507</td>\n    </tr>\n    <tr>\n      <th>41</th>\n      <td>is_sm_ips_ports</td>\n      <td>0.468846</td>\n      <td>0.670083</td>\n      <td>0.374481</td>\n      <td>0.396838</td>\n      <td>0.477562</td>\n    </tr>\n    <tr>\n      <th>14</th>\n      <td>dloss</td>\n      <td>0.581203</td>\n      <td>0.654597</td>\n      <td>0.950595</td>\n      <td>0.644124</td>\n      <td>0.707630</td>\n    </tr>\n    <tr>\n      <th>33</th>\n      <td>ct_src_dport_ltm</td>\n      <td>0.764210</td>\n      <td>0.607456</td>\n      <td>0.651194</td>\n      <td>0.643183</td>\n      <td>0.666511</td>\n    </tr>\n    <tr>\n      <th>19</th>\n      <td>swin</td>\n      <td>0.569894</td>\n      <td>0.493054</td>\n      <td>0.824554</td>\n      <td>0.743721</td>\n      <td>0.657806</td>\n    </tr>\n    <tr>\n      <th>2</th>\n      <td>service</td>\n      <td>0.456995</td>\n      <td>0.487883</td>\n      <td>0.679519</td>\n      <td>0.829461</td>\n      <td>0.613464</td>\n    </tr>\n    <tr>\n      <th>38</th>\n      <td>ct_flw_http_mthd</td>\n      <td>0.170371</td>\n      <td>0.149352</td>\n      <td>0.181311</td>\n      <td>0.196570</td>\n      <td>0.174401</td>\n    </tr>\n    <tr>\n      <th>29</th>\n      <td>response_body_len</td>\n      <td>0.154297</td>\n      <td>0.147286</td>\n      <td>0.332689</td>\n      <td>0.337989</td>\n      <td>0.243065</td>\n    </tr>\n    <tr>\n      <th>28</th>\n      <td>trans_depth</td>\n      <td>0.092776</td>\n      <td>0.126788</td>\n      <td>0.140550</td>\n      <td>0.158788</td>\n      <td>0.129726</td>\n    </tr>\n    <tr>\n      <th>22</th>\n      <td>dwin</td>\n      <td>0.075784</td>\n      <td>0.048711</td>\n      <td>0.025906</td>\n      <td>0.063792</td>\n      <td>0.053548</td>\n    </tr>\n    <tr>\n      <th>37</th>\n      <td>ct_ftp_cmd</td>\n      <td>0.007455</td>\n      <td>0.009995</td>\n      <td>0.009951</td>\n      <td>0.010621</td>\n      <td>0.009506</td>\n    </tr>\n    <tr>\n      <th>36</th>\n      <td>is_ftp_login</td>\n      <td>0.010394</td>\n      <td>0.009780</td>\n      <td>0.010256</td>\n      <td>0.011021</td>\n      <td>0.010363</td>\n    </tr>\n  </tbody>\n</table>\n</div>"
     },
     "execution_count": 12,
     "metadata": {},
     "output_type": "execute_result"
    }
   ],
   "source": [
    "importance_df = pd.DataFrame(importance_dict)\n",
    "for col in importance_df.columns:\n",
    "    if col=='feature':\n",
    "        continue\n",
    "    importance_df[col] = importance_df[col]*100/importance_df[col].sum()\n",
    "       \n",
    "importance_df['mean'] = importance_df[[col for col in importance_df.columns if col!='feature']].mean(axis=1)\n",
    "importance_df = importance_df.sort_values('train_10_fold', ascending=False)\n",
    "importance_df"
   ]
  },
  {
   "cell_type": "markdown",
   "metadata": {},
   "source": [
    "### (6) Saving the file"
   ]
  },
  {
   "cell_type": "code",
   "execution_count": 13,
   "metadata": {
    "ExecuteTime": {
     "end_time": "2023-08-04T18:34:43.951675Z",
     "start_time": "2023-08-04T18:34:43.847532400Z"
    }
   },
   "outputs": [
    {
     "data": {
      "text/plain": "              feature      train  train_10_fold   combined  combined_10_fold  \\\n9                sttl  16.255094      16.898919  16.283185         11.433526   \n31       ct_state_ttl   8.961909      11.689666   7.486178         11.269590   \n12              dload   4.567464       6.579540   3.938003          5.517444   \n10               dttl   7.311621       4.989468   4.812165          4.316437   \n8                rate   4.253581       4.978529   4.456069          4.473814   \n27              dmean   4.991935       4.257137   2.797483          2.470074   \n11              sload   3.310175       3.711741   5.334926          4.995170   \n23             tcprtt   3.202787       3.202635   2.662689          2.823354   \n6              sbytes   3.067725       2.957175   4.166208          4.279369   \n25             ackdat   1.805762       2.834778   1.650304          2.537491   \n40         ct_srv_dst   3.435446       2.772384   3.492357          3.476068   \n26              smean   2.706847       2.615915   4.130010          4.141526   \n7              dbytes   3.183630       2.508845   4.105012          3.670487   \n24             synack   2.654314       2.456638   2.550696          2.437111   \n0                 dur   2.862586       2.445996   2.146166          2.397989   \n35     ct_dst_src_ltm   2.145277       2.293238   3.759039          3.972259   \n15             sinpkt   2.879870       2.271167   1.520442          2.344286   \n16             dinpkt   2.284652       2.239226   3.169742          2.418598   \n30         ct_srv_src   2.279301       2.116070   2.731506          2.525436   \n5               dpkts   2.322410       2.050184   1.359012          2.278834   \n17               sjit   2.027772       1.508421   1.556618          1.568233   \n3               state   1.859144       1.346135   2.420652          1.472644   \n18               djit   1.470971       1.137514   1.094958          1.279845   \n1               proto   1.387948       1.072173   1.349616          1.074341   \n34   ct_dst_sport_ltm   0.487600       0.879114   1.829585          1.391200   \n32         ct_dst_ltm   0.775712       0.860288   0.724565          0.805560   \n39         ct_src_ltm   0.941966       0.818407   0.824340          0.833864   \n20              stcpb   0.760288       0.801885   0.820918          0.848023   \n13              sloss   0.771581       0.792925   0.860158          1.158748   \n21              dtcpb   0.777448       0.767481   0.812364          0.838952   \n4               spkts   0.904958       0.741421   0.974028          0.913620   \n41    is_sm_ips_ports   0.468846       0.670083   0.374481          0.396838   \n14              dloss   0.581203       0.654597   0.950595          0.644124   \n33   ct_src_dport_ltm   0.764210       0.607456   0.651194          0.643183   \n19               swin   0.569894       0.493054   0.824554          0.743721   \n2             service   0.456995       0.487883   0.679519          0.829461   \n38   ct_flw_http_mthd   0.170371       0.149352   0.181311          0.196570   \n29  response_body_len   0.154297       0.147286   0.332689          0.337989   \n28        trans_depth   0.092776       0.126788   0.140550          0.158788   \n22               dwin   0.075784       0.048711   0.025906          0.063792   \n37         ct_ftp_cmd   0.007455       0.009995   0.009951          0.010621   \n36       is_ftp_login   0.010394       0.009780   0.010256          0.011021   \n\n         mean  \n9   15.217681  \n31   9.851836  \n12   5.150613  \n10   5.357423  \n8    4.540498  \n27   3.629157  \n11   4.338003  \n23   2.972866  \n6    3.617619  \n25   2.207084  \n40   3.294064  \n26   3.398574  \n7    3.366993  \n24   2.524690  \n0    2.463184  \n35   3.042453  \n15   2.253941  \n16   2.528054  \n30   2.413078  \n5    2.002610  \n17   1.665261  \n3    1.774644  \n18   1.245822  \n1    1.221019  \n34   1.146875  \n32   0.791531  \n39   0.854644  \n20   0.807779  \n13   0.895853  \n21   0.799061  \n4    0.883507  \n41   0.477562  \n14   0.707630  \n33   0.666511  \n19   0.657806  \n2    0.613464  \n38   0.174401  \n29   0.243065  \n28   0.129726  \n22   0.053548  \n37   0.009506  \n36   0.010363  ",
      "text/html": "<div>\n<style scoped>\n    .dataframe tbody tr th:only-of-type {\n        vertical-align: middle;\n    }\n\n    .dataframe tbody tr th {\n        vertical-align: top;\n    }\n\n    .dataframe thead th {\n        text-align: right;\n    }\n</style>\n<table border=\"1\" class=\"dataframe\">\n  <thead>\n    <tr style=\"text-align: right;\">\n      <th></th>\n      <th>feature</th>\n      <th>train</th>\n      <th>train_10_fold</th>\n      <th>combined</th>\n      <th>combined_10_fold</th>\n      <th>mean</th>\n    </tr>\n  </thead>\n  <tbody>\n    <tr>\n      <th>9</th>\n      <td>sttl</td>\n      <td>16.255094</td>\n      <td>16.898919</td>\n      <td>16.283185</td>\n      <td>11.433526</td>\n      <td>15.217681</td>\n    </tr>\n    <tr>\n      <th>31</th>\n      <td>ct_state_ttl</td>\n      <td>8.961909</td>\n      <td>11.689666</td>\n      <td>7.486178</td>\n      <td>11.269590</td>\n      <td>9.851836</td>\n    </tr>\n    <tr>\n      <th>12</th>\n      <td>dload</td>\n      <td>4.567464</td>\n      <td>6.579540</td>\n      <td>3.938003</td>\n      <td>5.517444</td>\n      <td>5.150613</td>\n    </tr>\n    <tr>\n      <th>10</th>\n      <td>dttl</td>\n      <td>7.311621</td>\n      <td>4.989468</td>\n      <td>4.812165</td>\n      <td>4.316437</td>\n      <td>5.357423</td>\n    </tr>\n    <tr>\n      <th>8</th>\n      <td>rate</td>\n      <td>4.253581</td>\n      <td>4.978529</td>\n      <td>4.456069</td>\n      <td>4.473814</td>\n      <td>4.540498</td>\n    </tr>\n    <tr>\n      <th>27</th>\n      <td>dmean</td>\n      <td>4.991935</td>\n      <td>4.257137</td>\n      <td>2.797483</td>\n      <td>2.470074</td>\n      <td>3.629157</td>\n    </tr>\n    <tr>\n      <th>11</th>\n      <td>sload</td>\n      <td>3.310175</td>\n      <td>3.711741</td>\n      <td>5.334926</td>\n      <td>4.995170</td>\n      <td>4.338003</td>\n    </tr>\n    <tr>\n      <th>23</th>\n      <td>tcprtt</td>\n      <td>3.202787</td>\n      <td>3.202635</td>\n      <td>2.662689</td>\n      <td>2.823354</td>\n      <td>2.972866</td>\n    </tr>\n    <tr>\n      <th>6</th>\n      <td>sbytes</td>\n      <td>3.067725</td>\n      <td>2.957175</td>\n      <td>4.166208</td>\n      <td>4.279369</td>\n      <td>3.617619</td>\n    </tr>\n    <tr>\n      <th>25</th>\n      <td>ackdat</td>\n      <td>1.805762</td>\n      <td>2.834778</td>\n      <td>1.650304</td>\n      <td>2.537491</td>\n      <td>2.207084</td>\n    </tr>\n    <tr>\n      <th>40</th>\n      <td>ct_srv_dst</td>\n      <td>3.435446</td>\n      <td>2.772384</td>\n      <td>3.492357</td>\n      <td>3.476068</td>\n      <td>3.294064</td>\n    </tr>\n    <tr>\n      <th>26</th>\n      <td>smean</td>\n      <td>2.706847</td>\n      <td>2.615915</td>\n      <td>4.130010</td>\n      <td>4.141526</td>\n      <td>3.398574</td>\n    </tr>\n    <tr>\n      <th>7</th>\n      <td>dbytes</td>\n      <td>3.183630</td>\n      <td>2.508845</td>\n      <td>4.105012</td>\n      <td>3.670487</td>\n      <td>3.366993</td>\n    </tr>\n    <tr>\n      <th>24</th>\n      <td>synack</td>\n      <td>2.654314</td>\n      <td>2.456638</td>\n      <td>2.550696</td>\n      <td>2.437111</td>\n      <td>2.524690</td>\n    </tr>\n    <tr>\n      <th>0</th>\n      <td>dur</td>\n      <td>2.862586</td>\n      <td>2.445996</td>\n      <td>2.146166</td>\n      <td>2.397989</td>\n      <td>2.463184</td>\n    </tr>\n    <tr>\n      <th>35</th>\n      <td>ct_dst_src_ltm</td>\n      <td>2.145277</td>\n      <td>2.293238</td>\n      <td>3.759039</td>\n      <td>3.972259</td>\n      <td>3.042453</td>\n    </tr>\n    <tr>\n      <th>15</th>\n      <td>sinpkt</td>\n      <td>2.879870</td>\n      <td>2.271167</td>\n      <td>1.520442</td>\n      <td>2.344286</td>\n      <td>2.253941</td>\n    </tr>\n    <tr>\n      <th>16</th>\n      <td>dinpkt</td>\n      <td>2.284652</td>\n      <td>2.239226</td>\n      <td>3.169742</td>\n      <td>2.418598</td>\n      <td>2.528054</td>\n    </tr>\n    <tr>\n      <th>30</th>\n      <td>ct_srv_src</td>\n      <td>2.279301</td>\n      <td>2.116070</td>\n      <td>2.731506</td>\n      <td>2.525436</td>\n      <td>2.413078</td>\n    </tr>\n    <tr>\n      <th>5</th>\n      <td>dpkts</td>\n      <td>2.322410</td>\n      <td>2.050184</td>\n      <td>1.359012</td>\n      <td>2.278834</td>\n      <td>2.002610</td>\n    </tr>\n    <tr>\n      <th>17</th>\n      <td>sjit</td>\n      <td>2.027772</td>\n      <td>1.508421</td>\n      <td>1.556618</td>\n      <td>1.568233</td>\n      <td>1.665261</td>\n    </tr>\n    <tr>\n      <th>3</th>\n      <td>state</td>\n      <td>1.859144</td>\n      <td>1.346135</td>\n      <td>2.420652</td>\n      <td>1.472644</td>\n      <td>1.774644</td>\n    </tr>\n    <tr>\n      <th>18</th>\n      <td>djit</td>\n      <td>1.470971</td>\n      <td>1.137514</td>\n      <td>1.094958</td>\n      <td>1.279845</td>\n      <td>1.245822</td>\n    </tr>\n    <tr>\n      <th>1</th>\n      <td>proto</td>\n      <td>1.387948</td>\n      <td>1.072173</td>\n      <td>1.349616</td>\n      <td>1.074341</td>\n      <td>1.221019</td>\n    </tr>\n    <tr>\n      <th>34</th>\n      <td>ct_dst_sport_ltm</td>\n      <td>0.487600</td>\n      <td>0.879114</td>\n      <td>1.829585</td>\n      <td>1.391200</td>\n      <td>1.146875</td>\n    </tr>\n    <tr>\n      <th>32</th>\n      <td>ct_dst_ltm</td>\n      <td>0.775712</td>\n      <td>0.860288</td>\n      <td>0.724565</td>\n      <td>0.805560</td>\n      <td>0.791531</td>\n    </tr>\n    <tr>\n      <th>39</th>\n      <td>ct_src_ltm</td>\n      <td>0.941966</td>\n      <td>0.818407</td>\n      <td>0.824340</td>\n      <td>0.833864</td>\n      <td>0.854644</td>\n    </tr>\n    <tr>\n      <th>20</th>\n      <td>stcpb</td>\n      <td>0.760288</td>\n      <td>0.801885</td>\n      <td>0.820918</td>\n      <td>0.848023</td>\n      <td>0.807779</td>\n    </tr>\n    <tr>\n      <th>13</th>\n      <td>sloss</td>\n      <td>0.771581</td>\n      <td>0.792925</td>\n      <td>0.860158</td>\n      <td>1.158748</td>\n      <td>0.895853</td>\n    </tr>\n    <tr>\n      <th>21</th>\n      <td>dtcpb</td>\n      <td>0.777448</td>\n      <td>0.767481</td>\n      <td>0.812364</td>\n      <td>0.838952</td>\n      <td>0.799061</td>\n    </tr>\n    <tr>\n      <th>4</th>\n      <td>spkts</td>\n      <td>0.904958</td>\n      <td>0.741421</td>\n      <td>0.974028</td>\n      <td>0.913620</td>\n      <td>0.883507</td>\n    </tr>\n    <tr>\n      <th>41</th>\n      <td>is_sm_ips_ports</td>\n      <td>0.468846</td>\n      <td>0.670083</td>\n      <td>0.374481</td>\n      <td>0.396838</td>\n      <td>0.477562</td>\n    </tr>\n    <tr>\n      <th>14</th>\n      <td>dloss</td>\n      <td>0.581203</td>\n      <td>0.654597</td>\n      <td>0.950595</td>\n      <td>0.644124</td>\n      <td>0.707630</td>\n    </tr>\n    <tr>\n      <th>33</th>\n      <td>ct_src_dport_ltm</td>\n      <td>0.764210</td>\n      <td>0.607456</td>\n      <td>0.651194</td>\n      <td>0.643183</td>\n      <td>0.666511</td>\n    </tr>\n    <tr>\n      <th>19</th>\n      <td>swin</td>\n      <td>0.569894</td>\n      <td>0.493054</td>\n      <td>0.824554</td>\n      <td>0.743721</td>\n      <td>0.657806</td>\n    </tr>\n    <tr>\n      <th>2</th>\n      <td>service</td>\n      <td>0.456995</td>\n      <td>0.487883</td>\n      <td>0.679519</td>\n      <td>0.829461</td>\n      <td>0.613464</td>\n    </tr>\n    <tr>\n      <th>38</th>\n      <td>ct_flw_http_mthd</td>\n      <td>0.170371</td>\n      <td>0.149352</td>\n      <td>0.181311</td>\n      <td>0.196570</td>\n      <td>0.174401</td>\n    </tr>\n    <tr>\n      <th>29</th>\n      <td>response_body_len</td>\n      <td>0.154297</td>\n      <td>0.147286</td>\n      <td>0.332689</td>\n      <td>0.337989</td>\n      <td>0.243065</td>\n    </tr>\n    <tr>\n      <th>28</th>\n      <td>trans_depth</td>\n      <td>0.092776</td>\n      <td>0.126788</td>\n      <td>0.140550</td>\n      <td>0.158788</td>\n      <td>0.129726</td>\n    </tr>\n    <tr>\n      <th>22</th>\n      <td>dwin</td>\n      <td>0.075784</td>\n      <td>0.048711</td>\n      <td>0.025906</td>\n      <td>0.063792</td>\n      <td>0.053548</td>\n    </tr>\n    <tr>\n      <th>37</th>\n      <td>ct_ftp_cmd</td>\n      <td>0.007455</td>\n      <td>0.009995</td>\n      <td>0.009951</td>\n      <td>0.010621</td>\n      <td>0.009506</td>\n    </tr>\n    <tr>\n      <th>36</th>\n      <td>is_ftp_login</td>\n      <td>0.010394</td>\n      <td>0.009780</td>\n      <td>0.010256</td>\n      <td>0.011021</td>\n      <td>0.010363</td>\n    </tr>\n  </tbody>\n</table>\n</div>"
     },
     "execution_count": 13,
     "metadata": {},
     "output_type": "execute_result"
    }
   ],
   "source": [
    "importance_df.to_csv(\"feature_importance.csv\", index=False)\n",
    "importance_df"
   ]
  },
  {
   "cell_type": "code",
   "execution_count": 14,
   "metadata": {
    "ExecuteTime": {
     "end_time": "2023-08-04T18:34:44.038200300Z",
     "start_time": "2023-08-04T18:34:43.903916400Z"
    }
   },
   "outputs": [
    {
     "data": {
      "text/plain": "              feature      train  train_10_fold   combined  combined_10_fold  \\\n0                sttl  16.255094      16.898919  16.283185         11.433526   \n1        ct_state_ttl   8.961908      11.689666   7.486178         11.269590   \n2               dload   4.567464       6.579540   3.938003          5.517444   \n3                dttl   7.311621       4.989468   4.812165          4.316437   \n4                rate   4.253581       4.978529   4.456069          4.473814   \n5               dmean   4.991935       4.257137   2.797483          2.470074   \n6               sload   3.310175       3.711741   5.334926          4.995171   \n7              tcprtt   3.202787       3.202635   2.662689          2.823354   \n8              sbytes   3.067725       2.957175   4.166208          4.279369   \n9              ackdat   1.805762       2.834778   1.650304          2.537491   \n10         ct_srv_dst   3.435446       2.772384   3.492357          3.476068   \n11              smean   2.706847       2.615915   4.130010          4.141526   \n12             dbytes   3.183630       2.508845   4.105012          3.670487   \n13             synack   2.654314       2.456638   2.550696          2.437111   \n14                dur   2.862586       2.445996   2.146166          2.397989   \n15     ct_dst_src_ltm   2.145277       2.293238   3.759039          3.972259   \n16             sinpkt   2.879870       2.271167   1.520442          2.344286   \n17             dinpkt   2.284652       2.239226   3.169742          2.418598   \n18         ct_srv_src   2.279301       2.116070   2.731506          2.525435   \n19              dpkts   2.322410       2.050184   1.359012          2.278834   \n20               sjit   2.027772       1.508421   1.556618          1.568233   \n21              state   1.859144       1.346135   2.420652          1.472644   \n22               djit   1.470971       1.137514   1.094958          1.279845   \n23              proto   1.387948       1.072173   1.349616          1.074341   \n24   ct_dst_sport_ltm   0.487600       0.879114   1.829585          1.391200   \n25         ct_dst_ltm   0.775712       0.860288   0.724565          0.805560   \n26         ct_src_ltm   0.941966       0.818407   0.824340          0.833864   \n27              stcpb   0.760288       0.801885   0.820918          0.848023   \n28              sloss   0.771581       0.792925   0.860158          1.158748   \n29              dtcpb   0.777448       0.767481   0.812364          0.838952   \n30              spkts   0.904958       0.741421   0.974028          0.913620   \n31    is_sm_ips_ports   0.468846       0.670083   0.374480          0.396838   \n32              dloss   0.581202       0.654597   0.950595          0.644124   \n33   ct_src_dport_ltm   0.764210       0.607456   0.651194          0.643184   \n34               swin   0.569894       0.493055   0.824554          0.743721   \n35            service   0.456995       0.487883   0.679519          0.829461   \n36   ct_flw_http_mthd   0.170371       0.149352   0.181311          0.196570   \n37  response_body_len   0.154297       0.147286   0.332689          0.337989   \n38        trans_depth   0.092776       0.126788   0.140550          0.158788   \n39               dwin   0.075784       0.048711   0.025906          0.063792   \n40         ct_ftp_cmd   0.007456       0.009995   0.009952          0.010621   \n41       is_ftp_login   0.010394       0.009780   0.010256          0.011021   \n\n         mean  \n0   15.217681  \n1    9.851835  \n2    5.150613  \n3    5.357423  \n4    4.540498  \n5    3.629157  \n6    4.338003  \n7    2.972866  \n8    3.617619  \n9    2.207084  \n10   3.294064  \n11   3.398575  \n12   3.366993  \n13   2.524690  \n14   2.463184  \n15   3.042453  \n16   2.253941  \n17   2.528055  \n18   2.413078  \n19   2.002610  \n20   1.665261  \n21   1.774644  \n22   1.245822  \n23   1.221019  \n24   1.146875  \n25   0.791532  \n26   0.854644  \n27   0.807778  \n28   0.895853  \n29   0.799061  \n30   0.883507  \n31   0.477562  \n32   0.707630  \n33   0.666511  \n34   0.657806  \n35   0.613464  \n36   0.174401  \n37   0.243065  \n38   0.129726  \n39   0.053548  \n40   0.009506  \n41   0.010363  ",
      "text/html": "<div>\n<style scoped>\n    .dataframe tbody tr th:only-of-type {\n        vertical-align: middle;\n    }\n\n    .dataframe tbody tr th {\n        vertical-align: top;\n    }\n\n    .dataframe thead th {\n        text-align: right;\n    }\n</style>\n<table border=\"1\" class=\"dataframe\">\n  <thead>\n    <tr style=\"text-align: right;\">\n      <th></th>\n      <th>feature</th>\n      <th>train</th>\n      <th>train_10_fold</th>\n      <th>combined</th>\n      <th>combined_10_fold</th>\n      <th>mean</th>\n    </tr>\n  </thead>\n  <tbody>\n    <tr>\n      <th>0</th>\n      <td>sttl</td>\n      <td>16.255094</td>\n      <td>16.898919</td>\n      <td>16.283185</td>\n      <td>11.433526</td>\n      <td>15.217681</td>\n    </tr>\n    <tr>\n      <th>1</th>\n      <td>ct_state_ttl</td>\n      <td>8.961908</td>\n      <td>11.689666</td>\n      <td>7.486178</td>\n      <td>11.269590</td>\n      <td>9.851835</td>\n    </tr>\n    <tr>\n      <th>2</th>\n      <td>dload</td>\n      <td>4.567464</td>\n      <td>6.579540</td>\n      <td>3.938003</td>\n      <td>5.517444</td>\n      <td>5.150613</td>\n    </tr>\n    <tr>\n      <th>3</th>\n      <td>dttl</td>\n      <td>7.311621</td>\n      <td>4.989468</td>\n      <td>4.812165</td>\n      <td>4.316437</td>\n      <td>5.357423</td>\n    </tr>\n    <tr>\n      <th>4</th>\n      <td>rate</td>\n      <td>4.253581</td>\n      <td>4.978529</td>\n      <td>4.456069</td>\n      <td>4.473814</td>\n      <td>4.540498</td>\n    </tr>\n    <tr>\n      <th>5</th>\n      <td>dmean</td>\n      <td>4.991935</td>\n      <td>4.257137</td>\n      <td>2.797483</td>\n      <td>2.470074</td>\n      <td>3.629157</td>\n    </tr>\n    <tr>\n      <th>6</th>\n      <td>sload</td>\n      <td>3.310175</td>\n      <td>3.711741</td>\n      <td>5.334926</td>\n      <td>4.995171</td>\n      <td>4.338003</td>\n    </tr>\n    <tr>\n      <th>7</th>\n      <td>tcprtt</td>\n      <td>3.202787</td>\n      <td>3.202635</td>\n      <td>2.662689</td>\n      <td>2.823354</td>\n      <td>2.972866</td>\n    </tr>\n    <tr>\n      <th>8</th>\n      <td>sbytes</td>\n      <td>3.067725</td>\n      <td>2.957175</td>\n      <td>4.166208</td>\n      <td>4.279369</td>\n      <td>3.617619</td>\n    </tr>\n    <tr>\n      <th>9</th>\n      <td>ackdat</td>\n      <td>1.805762</td>\n      <td>2.834778</td>\n      <td>1.650304</td>\n      <td>2.537491</td>\n      <td>2.207084</td>\n    </tr>\n    <tr>\n      <th>10</th>\n      <td>ct_srv_dst</td>\n      <td>3.435446</td>\n      <td>2.772384</td>\n      <td>3.492357</td>\n      <td>3.476068</td>\n      <td>3.294064</td>\n    </tr>\n    <tr>\n      <th>11</th>\n      <td>smean</td>\n      <td>2.706847</td>\n      <td>2.615915</td>\n      <td>4.130010</td>\n      <td>4.141526</td>\n      <td>3.398575</td>\n    </tr>\n    <tr>\n      <th>12</th>\n      <td>dbytes</td>\n      <td>3.183630</td>\n      <td>2.508845</td>\n      <td>4.105012</td>\n      <td>3.670487</td>\n      <td>3.366993</td>\n    </tr>\n    <tr>\n      <th>13</th>\n      <td>synack</td>\n      <td>2.654314</td>\n      <td>2.456638</td>\n      <td>2.550696</td>\n      <td>2.437111</td>\n      <td>2.524690</td>\n    </tr>\n    <tr>\n      <th>14</th>\n      <td>dur</td>\n      <td>2.862586</td>\n      <td>2.445996</td>\n      <td>2.146166</td>\n      <td>2.397989</td>\n      <td>2.463184</td>\n    </tr>\n    <tr>\n      <th>15</th>\n      <td>ct_dst_src_ltm</td>\n      <td>2.145277</td>\n      <td>2.293238</td>\n      <td>3.759039</td>\n      <td>3.972259</td>\n      <td>3.042453</td>\n    </tr>\n    <tr>\n      <th>16</th>\n      <td>sinpkt</td>\n      <td>2.879870</td>\n      <td>2.271167</td>\n      <td>1.520442</td>\n      <td>2.344286</td>\n      <td>2.253941</td>\n    </tr>\n    <tr>\n      <th>17</th>\n      <td>dinpkt</td>\n      <td>2.284652</td>\n      <td>2.239226</td>\n      <td>3.169742</td>\n      <td>2.418598</td>\n      <td>2.528055</td>\n    </tr>\n    <tr>\n      <th>18</th>\n      <td>ct_srv_src</td>\n      <td>2.279301</td>\n      <td>2.116070</td>\n      <td>2.731506</td>\n      <td>2.525435</td>\n      <td>2.413078</td>\n    </tr>\n    <tr>\n      <th>19</th>\n      <td>dpkts</td>\n      <td>2.322410</td>\n      <td>2.050184</td>\n      <td>1.359012</td>\n      <td>2.278834</td>\n      <td>2.002610</td>\n    </tr>\n    <tr>\n      <th>20</th>\n      <td>sjit</td>\n      <td>2.027772</td>\n      <td>1.508421</td>\n      <td>1.556618</td>\n      <td>1.568233</td>\n      <td>1.665261</td>\n    </tr>\n    <tr>\n      <th>21</th>\n      <td>state</td>\n      <td>1.859144</td>\n      <td>1.346135</td>\n      <td>2.420652</td>\n      <td>1.472644</td>\n      <td>1.774644</td>\n    </tr>\n    <tr>\n      <th>22</th>\n      <td>djit</td>\n      <td>1.470971</td>\n      <td>1.137514</td>\n      <td>1.094958</td>\n      <td>1.279845</td>\n      <td>1.245822</td>\n    </tr>\n    <tr>\n      <th>23</th>\n      <td>proto</td>\n      <td>1.387948</td>\n      <td>1.072173</td>\n      <td>1.349616</td>\n      <td>1.074341</td>\n      <td>1.221019</td>\n    </tr>\n    <tr>\n      <th>24</th>\n      <td>ct_dst_sport_ltm</td>\n      <td>0.487600</td>\n      <td>0.879114</td>\n      <td>1.829585</td>\n      <td>1.391200</td>\n      <td>1.146875</td>\n    </tr>\n    <tr>\n      <th>25</th>\n      <td>ct_dst_ltm</td>\n      <td>0.775712</td>\n      <td>0.860288</td>\n      <td>0.724565</td>\n      <td>0.805560</td>\n      <td>0.791532</td>\n    </tr>\n    <tr>\n      <th>26</th>\n      <td>ct_src_ltm</td>\n      <td>0.941966</td>\n      <td>0.818407</td>\n      <td>0.824340</td>\n      <td>0.833864</td>\n      <td>0.854644</td>\n    </tr>\n    <tr>\n      <th>27</th>\n      <td>stcpb</td>\n      <td>0.760288</td>\n      <td>0.801885</td>\n      <td>0.820918</td>\n      <td>0.848023</td>\n      <td>0.807778</td>\n    </tr>\n    <tr>\n      <th>28</th>\n      <td>sloss</td>\n      <td>0.771581</td>\n      <td>0.792925</td>\n      <td>0.860158</td>\n      <td>1.158748</td>\n      <td>0.895853</td>\n    </tr>\n    <tr>\n      <th>29</th>\n      <td>dtcpb</td>\n      <td>0.777448</td>\n      <td>0.767481</td>\n      <td>0.812364</td>\n      <td>0.838952</td>\n      <td>0.799061</td>\n    </tr>\n    <tr>\n      <th>30</th>\n      <td>spkts</td>\n      <td>0.904958</td>\n      <td>0.741421</td>\n      <td>0.974028</td>\n      <td>0.913620</td>\n      <td>0.883507</td>\n    </tr>\n    <tr>\n      <th>31</th>\n      <td>is_sm_ips_ports</td>\n      <td>0.468846</td>\n      <td>0.670083</td>\n      <td>0.374480</td>\n      <td>0.396838</td>\n      <td>0.477562</td>\n    </tr>\n    <tr>\n      <th>32</th>\n      <td>dloss</td>\n      <td>0.581202</td>\n      <td>0.654597</td>\n      <td>0.950595</td>\n      <td>0.644124</td>\n      <td>0.707630</td>\n    </tr>\n    <tr>\n      <th>33</th>\n      <td>ct_src_dport_ltm</td>\n      <td>0.764210</td>\n      <td>0.607456</td>\n      <td>0.651194</td>\n      <td>0.643184</td>\n      <td>0.666511</td>\n    </tr>\n    <tr>\n      <th>34</th>\n      <td>swin</td>\n      <td>0.569894</td>\n      <td>0.493055</td>\n      <td>0.824554</td>\n      <td>0.743721</td>\n      <td>0.657806</td>\n    </tr>\n    <tr>\n      <th>35</th>\n      <td>service</td>\n      <td>0.456995</td>\n      <td>0.487883</td>\n      <td>0.679519</td>\n      <td>0.829461</td>\n      <td>0.613464</td>\n    </tr>\n    <tr>\n      <th>36</th>\n      <td>ct_flw_http_mthd</td>\n      <td>0.170371</td>\n      <td>0.149352</td>\n      <td>0.181311</td>\n      <td>0.196570</td>\n      <td>0.174401</td>\n    </tr>\n    <tr>\n      <th>37</th>\n      <td>response_body_len</td>\n      <td>0.154297</td>\n      <td>0.147286</td>\n      <td>0.332689</td>\n      <td>0.337989</td>\n      <td>0.243065</td>\n    </tr>\n    <tr>\n      <th>38</th>\n      <td>trans_depth</td>\n      <td>0.092776</td>\n      <td>0.126788</td>\n      <td>0.140550</td>\n      <td>0.158788</td>\n      <td>0.129726</td>\n    </tr>\n    <tr>\n      <th>39</th>\n      <td>dwin</td>\n      <td>0.075784</td>\n      <td>0.048711</td>\n      <td>0.025906</td>\n      <td>0.063792</td>\n      <td>0.053548</td>\n    </tr>\n    <tr>\n      <th>40</th>\n      <td>ct_ftp_cmd</td>\n      <td>0.007456</td>\n      <td>0.009995</td>\n      <td>0.009952</td>\n      <td>0.010621</td>\n      <td>0.009506</td>\n    </tr>\n    <tr>\n      <th>41</th>\n      <td>is_ftp_login</td>\n      <td>0.010394</td>\n      <td>0.009780</td>\n      <td>0.010256</td>\n      <td>0.011021</td>\n      <td>0.010363</td>\n    </tr>\n  </tbody>\n</table>\n</div>"
     },
     "execution_count": 14,
     "metadata": {},
     "output_type": "execute_result"
    }
   ],
   "source": [
    "importance_df_round = pd.read_csv(\"feature_importance.csv\",index_col=False)\n",
    "importance_df_round = importance_df_round.round(7)\n",
    "importance_df_round"
   ]
  },
  {
   "cell_type": "code",
   "execution_count": 15,
   "metadata": {
    "ExecuteTime": {
     "end_time": "2023-08-04T18:34:44.038200300Z",
     "start_time": "2023-08-04T18:34:43.951675Z"
    }
   },
   "outputs": [],
   "source": [
    "importance_df_round.to_csv(\"feature_importance_rounded.csv\", index=False)"
   ]
  },
  {
   "cell_type": "code",
   "execution_count": 15,
   "metadata": {
    "ExecuteTime": {
     "end_time": "2023-08-04T18:34:44.038200300Z",
     "start_time": "2023-08-04T18:34:43.968366600Z"
    }
   },
   "outputs": [],
   "source": []
  }
 ],
 "metadata": {
  "interpreter": {
   "hash": "e806ced9ecfb40b02ab47568795ac9dcbe40749bdb5814bad29b2f2147c6506f"
  },
  "kernelspec": {
   "display_name": "Python 3",
   "language": "python",
   "name": "python3"
  },
  "language_info": {
   "codemirror_mode": {
    "name": "ipython",
    "version": 3
   },
   "file_extension": ".py",
   "mimetype": "text/x-python",
   "name": "python",
   "nbconvert_exporter": "python",
   "pygments_lexer": "ipython3",
   "version": "3.8.8"
  }
 },
 "nbformat": 4,
 "nbformat_minor": 2
}
