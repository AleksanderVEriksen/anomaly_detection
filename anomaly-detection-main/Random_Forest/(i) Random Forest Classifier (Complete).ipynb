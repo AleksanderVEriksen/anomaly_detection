{
 "cells": [
  {
   "cell_type": "markdown",
   "metadata": {},
   "source": [
    "# Random Forest Classifier"
   ]
  },
  {
   "cell_type": "code",
   "execution_count": 1,
   "metadata": {
    "ExecuteTime": {
     "end_time": "2023-08-06T12:54:37.822681600Z",
     "start_time": "2023-08-06T12:54:29.536045300Z"
    }
   },
   "outputs": [
    {
     "name": "stdout",
     "output_type": "stream",
     "text": [
      "( 1 ) Reading Preprocessed CSV files..\n",
      "\t Training dataset loaded..\n",
      "\t Testing dataset loaded..\n",
      "\n",
      "( 2 ) Loading done, splitting into X and Y..\n",
      "\t ( 2.1 ) x_train Shape:  \t (175341, 53)\n",
      "\t ( 2.2 ) y_train Shape:  \t (175341,)\n",
      "\t ( 2.3 ) x_test Shape:  \t (82332, 53)\n",
      "\t ( 2.4 ) y_test Shape:  \t (82332,)\n",
      "( 3 ) Done!\n",
      "PS! Import with: x_train, x_test, y_train, y_test = XY_import()\n",
      "Reading Preprocessed CSV Files..\n",
      "\t Train Shape:  \t (175341, 54)\n",
      "\t Test Shape:  \t (82332, 54)\n",
      "Dataset Loaded!\n"
     ]
    }
   ],
   "source": [
    "import pandas as pd\n",
    "import numpy as np\n",
    "import sys\n",
    "sys.path.append(\"..\")\n",
    "from Functions.UNSW_DF import *\n",
    "\n",
    "# importing random forest classifier from assemble module\n",
    "from sklearn.model_selection import cross_val_score\n",
    "from sklearn.model_selection import RepeatedStratifiedKFold\n",
    "from sklearn.ensemble import RandomForestClassifier\n",
    "from sklearn import metrics\n",
    "X_train, X_test, y_train, y_test = DF_XY()\n",
    "\n",
    "# importing Dataset\n",
    "train, test = DF_preprocessed_traintest()"
   ]
  },
  {
   "cell_type": "code",
   "execution_count": 2,
   "metadata": {
    "ExecuteTime": {
     "end_time": "2023-08-06T12:54:37.834207500Z",
     "start_time": "2023-08-06T12:54:37.821680600Z"
    }
   },
   "outputs": [],
   "source": [
    "#dataframe = pd.merge(train, test)\n",
    "#X = dataframe.drop([\"label\"], axis=1)\n",
    "#y= dataframe[\"label\"]"
   ]
  },
  {
   "cell_type": "markdown",
   "metadata": {},
   "source": [
    "## Creating the classifier"
   ]
  },
  {
   "cell_type": "code",
   "execution_count": 3,
   "metadata": {
    "ExecuteTime": {
     "end_time": "2023-08-06T12:54:37.856859500Z",
     "start_time": "2023-08-06T12:54:37.835205600Z"
    }
   },
   "outputs": [],
   "source": [
    "params = {\"criterion\": \"entropy\",\n",
    "              \"bootstrap\":True, \n",
    "              \"n_estimators\": 200,\n",
    "              \"max_depth\": 50,\n",
    "              \"min_samples_split\":10,\n",
    "              \"min_samples_leaf\": 2,\n",
    "              \"n_jobs\": -1}"
   ]
  },
  {
   "cell_type": "code",
   "execution_count": 4,
   "metadata": {
    "ExecuteTime": {
     "end_time": "2023-08-06T12:54:38.456174400Z",
     "start_time": "2023-08-06T12:54:37.850860600Z"
    }
   },
   "outputs": [
    {
     "ename": "NameError",
     "evalue": "name 'X' is not defined",
     "output_type": "error",
     "traceback": [
      "\u001b[1;31m---------------------------------------------------------------------------\u001b[0m",
      "\u001b[1;31mNameError\u001b[0m                                 Traceback (most recent call last)",
      "Cell \u001b[1;32mIn[4], line 6\u001b[0m\n\u001b[0;32m      3\u001b[0m model\u001b[38;5;241m.\u001b[39mset_params(\u001b[38;5;241m*\u001b[39m\u001b[38;5;241m*\u001b[39mparams)\n\u001b[0;32m      5\u001b[0m \u001b[38;5;66;03m# fit the model on the whole dataset\u001b[39;00m\n\u001b[1;32m----> 6\u001b[0m model\u001b[38;5;241m.\u001b[39mfit(\u001b[43mX\u001b[49m, y)\n\u001b[0;32m      8\u001b[0m \u001b[38;5;66;03m# performing predictions on the traing and test dataset\u001b[39;00m\n\u001b[0;32m      9\u001b[0m y_pred_train \u001b[38;5;241m=\u001b[39m model\u001b[38;5;241m.\u001b[39mpredict(X)\n",
      "\u001b[1;31mNameError\u001b[0m: name 'X' is not defined"
     ]
    }
   ],
   "source": [
    "# define the model\n",
    "model = RandomForestClassifier(**params)\n",
    "model.set_params(**params)\n",
    "\n",
    "# fit the model on the whole dataset\n",
    "model.fit(X, y)\n",
    "\n",
    "# performing predictions on the traing and test dataset\n",
    "y_pred_train = model.predict(X)\n",
    "y_pred_test = model.predict(X_test)"
   ]
  },
  {
   "cell_type": "code",
   "execution_count": null,
   "metadata": {
    "ExecuteTime": {
     "end_time": "2023-08-06T12:54:38.462252900Z",
     "start_time": "2023-08-06T12:54:38.461249700Z"
    }
   },
   "outputs": [],
   "source": [
    "train_accuracy = round(metrics.accuracy_score(y, y_pred_train), 5)\n",
    "test_accuracy = round(metrics.accuracy_score(y_test, y_pred_test), 5)\n",
    "f1 = round(metrics.f1_score(y_test, y_pred_test), 5)\n",
    "precision = round(metrics.precision_score(y_test, y_pred_test), 5)\n",
    "recall = round(metrics.recall_score(y_test, y_pred_test), 5)\n",
    "\n",
    "print(f\"Training accuracy: \\t{train_accuracy}\\nTest accuracy: \\t\\t{test_accuracy}\\nF1-score: \\t\\t{f1}\\nprecision-score: \\t{precision}\\nrecall-score: \\t\\t{recall}\\n\")"
   ]
  },
  {
   "cell_type": "markdown",
   "metadata": {},
   "source": [
    "## Classifier Experiment 1"
   ]
  },
  {
   "cell_type": "code",
   "execution_count": null,
   "metadata": {
    "ExecuteTime": {
     "start_time": "2023-08-06T12:54:38.465465600Z"
    }
   },
   "outputs": [],
   "source": [
    "# evaluate random forest algorithm for classification\n",
    "from numpy import mean\n",
    "from numpy import std\n",
    "import time"
   ]
  },
  {
   "cell_type": "code",
   "execution_count": null,
   "metadata": {
    "ExecuteTime": {
     "start_time": "2023-08-06T12:54:38.468516200Z"
    }
   },
   "outputs": [],
   "source": [
    "params = {\"criterion\": \"entropy\",\n",
    "              \"bootstrap\":True, \n",
    "              \"n_estimators\": 200,\n",
    "              \"max_depth\": 50,\n",
    "              \"min_samples_split\":10,\n",
    "              \"min_samples_leaf\": 2,\n",
    "              \"n_jobs\": -1}"
   ]
  },
  {
   "cell_type": "code",
   "execution_count": null,
   "metadata": {
    "ExecuteTime": {
     "start_time": "2023-08-06T12:54:38.472458900Z"
    }
   },
   "outputs": [],
   "source": [
    "# define the model\n",
    "#model = RandomForestClassifier(n_jobs=-1)\n",
    "\n",
    "# define the model\n",
    "model = RandomForestClassifier(**params)\n",
    "model.set_params(**params)\n",
    "\n",
    "# evaluate the model\n",
    "cv = RepeatedStratifiedKFold(n_splits=10, \n",
    "                             n_repeats=3, \n",
    "                             random_state=1)\n",
    "n_scores = cross_val_score(model, X, y, scoring='accuracy', cv=cv, n_jobs=-1, error_score='raise')"
   ]
  },
  {
   "cell_type": "code",
   "execution_count": null,
   "metadata": {
    "ExecuteTime": {
     "start_time": "2023-08-06T12:54:38.475749800Z"
    }
   },
   "outputs": [],
   "source": [
    "n_scores"
   ]
  },
  {
   "cell_type": "code",
   "execution_count": null,
   "metadata": {
    "ExecuteTime": {
     "end_time": "2023-08-06T12:54:38.517449100Z",
     "start_time": "2023-08-06T12:54:38.479279300Z"
    }
   },
   "outputs": [],
   "source": [
    "# report performance\n",
    "print('Accuracy: %.3f (%.3f)' % (mean(n_scores), std(n_scores)))"
   ]
  },
  {
   "cell_type": "code",
   "execution_count": null,
   "metadata": {
    "ExecuteTime": {
     "start_time": "2023-08-06T12:54:38.482279800Z"
    }
   },
   "outputs": [],
   "source": []
  },
  {
   "cell_type": "markdown",
   "metadata": {},
   "source": [
    "# Classifier Experiment 2"
   ]
  },
  {
   "cell_type": "code",
   "execution_count": null,
   "metadata": {
    "ExecuteTime": {
     "start_time": "2023-08-06T12:54:38.484276700Z"
    }
   },
   "outputs": [],
   "source": [
    "from sklearn.metrics import make_scorer, accuracy_score, precision_score, recall_score, f1_score\n",
    "from sklearn.model_selection import KFold\n",
    "from sklearn.model_selection import cross_validate"
   ]
  },
  {
   "cell_type": "code",
   "execution_count": null,
   "metadata": {
    "ExecuteTime": {
     "start_time": "2023-08-06T12:54:38.486285300Z"
    }
   },
   "outputs": [],
   "source": [
    "# define the model\n",
    "model = RandomForestClassifier(n_jobs=-1)"
   ]
  },
  {
   "cell_type": "code",
   "execution_count": null,
   "metadata": {
    "ExecuteTime": {
     "start_time": "2023-08-06T12:54:38.488281200Z"
    }
   },
   "outputs": [],
   "source": [
    "scores = cross_validate(model, X, y, cv=30,\n",
    "                        scoring=('accuracy', 'precision', 'recall', 'f1'),\n",
    "                        return_train_score=True,\n",
    "                        verbose=1)"
   ]
  },
  {
   "cell_type": "code",
   "execution_count": null,
   "metadata": {
    "ExecuteTime": {
     "start_time": "2023-08-06T12:54:38.489815500Z"
    }
   },
   "outputs": [],
   "source": [
    "scores"
   ]
  },
  {
   "cell_type": "code",
   "execution_count": null,
   "metadata": {
    "ExecuteTime": {
     "start_time": "2023-08-06T12:54:38.490816300Z"
    }
   },
   "outputs": [],
   "source": [
    "df = pd.DataFrame.from_dict(scores, orient='columns')\n",
    "df"
   ]
  },
  {
   "cell_type": "markdown",
   "metadata": {},
   "source": [
    "# CROSS VAL 3"
   ]
  }
 ],
 "metadata": {
  "interpreter": {
   "hash": "e806ced9ecfb40b02ab47568795ac9dcbe40749bdb5814bad29b2f2147c6506f"
  },
  "kernelspec": {
   "display_name": "Python 3 (ipykernel)",
   "language": "python",
   "name": "python3"
  },
  "language_info": {
   "codemirror_mode": {
    "name": "ipython",
    "version": 3
   },
   "file_extension": ".py",
   "mimetype": "text/x-python",
   "name": "python",
   "nbconvert_exporter": "python",
   "pygments_lexer": "ipython3",
   "version": "3.9.13"
  }
 },
 "nbformat": 4,
 "nbformat_minor": 4
}
