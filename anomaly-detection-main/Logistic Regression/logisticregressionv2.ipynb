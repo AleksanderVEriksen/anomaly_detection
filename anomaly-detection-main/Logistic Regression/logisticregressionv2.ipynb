{
 "cells": [
  {
   "cell_type": "code",
   "execution_count": 1,
   "metadata": {
    "ExecuteTime": {
     "end_time": "2023-07-03T10:24:37.096426200Z",
     "start_time": "2023-07-03T10:24:36.052476100Z"
    }
   },
   "outputs": [
    {
     "ename": "ModuleNotFoundError",
     "evalue": "No module named 'UNSW_DFv2'",
     "output_type": "error",
     "traceback": [
      "\u001B[1;31m---------------------------------------------------------------------------\u001B[0m",
      "\u001B[1;31mModuleNotFoundError\u001B[0m                       Traceback (most recent call last)",
      "\u001B[1;32m<ipython-input-1-33d830f11257>\u001B[0m in \u001B[0;36m<module>\u001B[1;34m\u001B[0m\n\u001B[0;32m     14\u001B[0m \u001B[1;32mimport\u001B[0m \u001B[0msys\u001B[0m\u001B[1;33m\u001B[0m\u001B[1;33m\u001B[0m\u001B[0m\n\u001B[0;32m     15\u001B[0m \u001B[0msys\u001B[0m\u001B[1;33m.\u001B[0m\u001B[0mpath\u001B[0m\u001B[1;33m.\u001B[0m\u001B[0mappend\u001B[0m\u001B[1;33m(\u001B[0m\u001B[1;34m\"..\"\u001B[0m\u001B[1;33m)\u001B[0m\u001B[1;33m\u001B[0m\u001B[1;33m\u001B[0m\u001B[0m\n\u001B[1;32m---> 16\u001B[1;33m \u001B[1;32mfrom\u001B[0m \u001B[0mUNSW_DFv2\u001B[0m \u001B[1;32mimport\u001B[0m \u001B[1;33m*\u001B[0m\u001B[1;33m\u001B[0m\u001B[1;33m\u001B[0m\u001B[0m\n\u001B[0m",
      "\u001B[1;31mModuleNotFoundError\u001B[0m: No module named 'UNSW_DFv2'"
     ]
    }
   ],
   "source": [
    "import pandas as pd\n",
    "import numpy as np\n",
    "from sklearn.metrics import classification_report, confusion_matrix, accuracy_score\n",
    "from sklearn import metrics\n",
    "import seaborn as sns\n",
    "from sklearn.linear_model import LogisticRegression\n",
    "from sklearn.model_selection import train_test_split\n",
    "from sklearn.feature_selection import RFE\n",
    "from sklearn import metrics\n",
    "from sklearn.model_selection import GridSearchCV\n",
    "from sklearn.model_selection import RepeatedStratifiedKFold\n",
    "\n",
    "\n",
    "import sys\n",
    "sys.path.append(\"..\")\n",
    "from UNSW_DFv2 import *"
   ]
  },
  {
   "cell_type": "code",
   "execution_count": null,
   "metadata": {},
   "outputs": [],
   "source": [
    "train, test = DF_preprocessed_traintest()\n",
    "X_train, X_test, y_train, y_test = DF_XY()"
   ]
  },
  {
   "cell_type": "code",
   "execution_count": null,
   "metadata": {},
   "outputs": [],
   "source": [
    "print(y_test.shape)\n",
    "print(y_test.shape)"
   ]
  },
  {
   "cell_type": "code",
   "execution_count": null,
   "metadata": {},
   "outputs": [],
   "source": [
    "logreg = LogisticRegression()\n",
    "logreg.fit(X_train, y_train.values.ravel())\n",
    "y_pred_test = logreg.predict(X_test)\n",
    "y_pred_train = logreg.predict(X_train)"
   ]
  },
  {
   "cell_type": "code",
   "execution_count": null,
   "metadata": {},
   "outputs": [],
   "source": [
    "print(\"Accuracy Score test: \\t\", metrics.accuracy_score(y_test, y_pred_test))\n",
    "print(\"Accuracy Score train: \\t\", metrics.accuracy_score(y_train, y_pred_train))\n",
    "print(\"F1 Score: \\t\\t\", metrics.f1_score(y_test, y_pred_test))\n",
    "print(\"Precision Score: \\t\", metrics.precision_score(y_test, y_pred_test))\n",
    "print(\"Recall Score: \\t\\t\", metrics.recall_score(y_test, y_pred_test))\n",
    "print(\"------------------------------------------------\")\n",
    "print(\"Classification report: \")\n",
    "print(metrics.classification_report(y_test, y_pred_test))"
   ]
  },
  {
   "cell_type": "code",
   "execution_count": null,
   "metadata": {},
   "outputs": [],
   "source": [
    "logreg = LogisticRegression(max_iter = 1000)\n",
    "logreg.fit(X_train, y_train.values.ravel())\n",
    "y_pred_test = logreg.predict(X_test)\n",
    "y_pred_train = logreg.predict(X_train)"
   ]
  },
  {
   "cell_type": "code",
   "execution_count": null,
   "metadata": {},
   "outputs": [],
   "source": [
    "print(\"Accuracy Score test: \\t\", metrics.accuracy_score(y_test, y_pred_test))\n",
    "print(\"Accuracy Score train: \\t\", metrics.accuracy_score(y_train, y_pred_train))\n",
    "print(\"F1 Score: \\t\\t\", metrics.f1_score(y_test, y_pred_test))\n",
    "print(\"Precision Score: \\t\", metrics.precision_score(y_test, y_pred_test))\n",
    "print(\"Recall Score: \\t\\t\", metrics.recall_score(y_test, y_pred_test))\n",
    "print(\"------------------------------------------------\")\n",
    "print(\"Classification report: \")\n",
    "print(metrics.classification_report(y_test, y_pred_test))"
   ]
  },
  {
   "cell_type": "code",
   "execution_count": null,
   "metadata": {},
   "outputs": [],
   "source": [
    "logreg = LogisticRegression(max_iter = 300, C = 500, penalty = \"l2\", solver = \"lbfgs\")\n",
    "logreg.fit(X_train, y_train.values.ravel())\n",
    "y_pred_test = logreg.predict(X_test)\n",
    "y_pred_train = logreg.predict(X_train)\n",
    "print(\"Accuracy Score test: \\t\", metrics.accuracy_score(y_test, y_pred_test))\n",
    "print(\"Accuracy Score train: \\t\", metrics.accuracy_score(y_train, y_pred_train))\n",
    "print(\"F1 Score: \\t\\t\", metrics.f1_score(y_test, y_pred_test))\n",
    "print(\"Precision Score: \\t\", metrics.precision_score(y_test, y_pred_test))\n",
    "print(\"Recall Score: \\t\\t\", metrics.recall_score(y_test, y_pred_test))\n",
    "print(\"------------------------------------------------\")\n",
    "print(\"Classification report: \")\n",
    "print(metrics.classification_report(y_test, y_pred_test))"
   ]
  },
  {
   "cell_type": "code",
   "execution_count": null,
   "metadata": {},
   "outputs": [],
   "source": [
    "print(\"Accuracy Score test: \\t\", metrics.accuracy_score(y_test, y_pred_test))\n",
    "print(\"Accuracy Score train: \\t\", metrics.accuracy_score(y_train, y_pred_train))\n",
    "print(\"F1 Score: \\t\\t\", metrics.f1_score(y_test, y_pred_test))\n",
    "print(\"Precision Score: \\t\", metrics.precision_score(y_test, y_pred_test))\n",
    "print(\"Recall Score: \\t\\t\", metrics.recall_score(y_test, y_pred_test))\n",
    "print(\"------------------------------------------------\")\n",
    "print(\"Classification report: \")\n",
    "print(metrics.classification_report(y_test, y_pred_test))\n"
   ]
  },
  {
   "cell_type": "code",
   "execution_count": null,
   "metadata": {},
   "outputs": [],
   "source": [
    "lr = LogisticRegression()\n",
    "solvers = ['newton-cg', 'lbfgs', 'liblinear']\n",
    "penalty = ['none', 'l1', 'l2', 'elasticnet']\n",
    "c_values = [100, 10, 1.0, 0.1, 0.01]\n",
    "max_iter = [10,100,1000]\n",
    "\n",
    "grid = dict(solver=solvers, penalty=penalty, C=c_values, max_iter=max_iter)\n",
    "cv = RepeatedStratifiedKFold(n_splits = 10, n_repeats=3, random_state=1)\n",
    "grid_search = GridSearchCV(estimator=lr, n_jobs=-1, param_grid=grid, cv=cv, scoring='accuracy', error_score=0)\n",
    "grid_result = grid_search.fit(X_train, y_train)\n",
    "y_pred = grid_search.predict(X_test)\n",
    "y_pred_train = grid_search.predict(X_train)"
   ]
  },
  {
   "cell_type": "code",
   "execution_count": null,
   "metadata": {},
   "outputs": [],
   "source": [
    "print(\"best: %f using %s\" % (grid_result.best_score_, grid_result.best_params_))\n",
    "print(\"Accuracy test\", metrics.accuracy_score(y_test, y_pred))\n",
    "print(\"......................................\")\n",
    "print(\"Accuracy train\", metrics.accuracy_score(y_train, y_pred_train))"
   ]
  },
  {
   "cell_type": "code",
   "execution_count": null,
   "metadata": {},
   "outputs": [],
   "source": [
    "lr = LogisticRegression()\n",
    "solvers = ['newton-cg', 'lbfgs', 'liblinear']\n",
    "penalty = ['none', 'l1', 'l2', 'elasticnet']\n",
    "c_values = [100, 10, 1.0, 0.1, 0.01]\n",
    "max_iter = [10,100,1000]\n",
    "\n",
    "grid = dict(solver=solvers, penalty=penalty, C=c_values, max_iter=max_iter)\n",
    "cv = RepeatedStratifiedKFold(n_splits = 10, n_repeats=3, random_state=1)\n",
    "grid_search = GridSearchCV(estimator=lr, param_grid=grid, scoring='accuracy', error_score=0)\n",
    "grid_result = grid_search.fit(X_train, y_train)\n",
    "y_pred = grid_search.predict(X_test)\n",
    "y_pred_train = grid_search.predict(X_train)\n",
    "\n",
    "print(\"best: %f using %s\" % (grid_result.best_score_, grid_result.best_params_))\n",
    "print(\"Accuracy test\", metrics.accuracy_score(y_test, y_pred))\n",
    "print(\"......................................\")\n",
    "print(\"Accuracy train\", metrics.accuracy_score(y_train, y_pred_train))"
   ]
  }
 ],
 "metadata": {
  "interpreter": {
   "hash": "cc5f70855ac006f3de45a3cc3b9e7d8d53845e50458809cb162b0174266dec97"
  },
  "kernelspec": {
   "display_name": "Python 3.8.8 ('base')",
   "language": "python",
   "name": "python3"
  },
  "language_info": {
   "codemirror_mode": {
    "name": "ipython",
    "version": 3
   },
   "file_extension": ".py",
   "mimetype": "text/x-python",
   "name": "python",
   "nbconvert_exporter": "python",
   "pygments_lexer": "ipython3",
   "version": "3.8.8"
  },
  "orig_nbformat": 4
 },
 "nbformat": 4,
 "nbformat_minor": 2
}
